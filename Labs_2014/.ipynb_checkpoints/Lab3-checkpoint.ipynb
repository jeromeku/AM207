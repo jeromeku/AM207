{
 "metadata": {
  "name": "",
  "signature": "sha256:76cbb66c2c1ab7623b19d78b45109d9e954d774c4b23229c51b0db93cc704472"
 },
 "nbformat": 3,
 "nbformat_minor": 0,
 "worksheets": [
  {
   "cells": [
    {
     "cell_type": "heading",
     "level": 1,
     "metadata": {},
     "source": [
      "Bayesians up the tree"
     ]
    },
    {
     "cell_type": "markdown",
     "metadata": {},
     "source": [
      "$$\n",
      "\\newcommand{\\Lik}{p(D|\\theta)}\n",
      "\\newcommand{\\bx}{{\\bf x}}\n",
      "\\newcommand{\\bX}{{\\bf X}}\n",
      "\\newcommand{\\by}{{\\bf y}}\n",
      "\\newcommand{\\bw}{{\\bf \\beta}}\n",
      "$$"
     ]
    },
    {
     "cell_type": "code",
     "collapsed": false,
     "input": [
      "%matplotlib inline\n",
      "import numpy as np\n",
      "import scipy as sp\n",
      "import matplotlib.pyplot as plt\n",
      "import pandas as pd\n",
      "pd.set_option('display.width', 500)\n",
      "pd.set_option('display.max_columns', 100)\n",
      "import seaborn as sns"
     ],
     "language": "python",
     "metadata": {},
     "outputs": [],
     "prompt_number": 1
    },
    {
     "cell_type": "markdown",
     "metadata": {},
     "source": [
      "HERE: https://dl.dropboxusercontent.com/u/75194/Lab3.ipynb\n",
      "\n",
      "###The General Problem\n",
      "\n",
      "Unless you have a good cross-validation strategy, a fundamental problem in frequentist statistics is overfitting. Consider, for example the MLE estimate. Unless you have a hold-out set, the danger is you may be making it too specific to your training set, and it will have poor generalization performance.\n",
      "\n",
      "Lest you think that this is just a frequentist problem, the MAP may overfit too. Indeed this is the disadvantage of any point estimate: if we dont **correctly** model the uncertainty in our parameters, then our predictive distribution will be overconfident.\n",
      "\n",
      "## The general process\n",
      "\n",
      "As @stat110, Joe Blitztein is wont to say: Conditioning is the soul of statistics.\n",
      "\n",
      "That sets us up for a very general workflow:\n",
      "\n",
      "1. set up a joint probability distribution for ALL observable and unobservable quantities in a problem\n",
      "2. condition on observed data: ca;culate the APPROPRIATE posterior\n",
      "3. evaluate the fit\n"
     ]
    },
    {
     "cell_type": "markdown",
     "metadata": {},
     "source": [
      "## Linear Regression\n",
      "\n",
      "### A linear model"
     ]
    },
    {
     "cell_type": "markdown",
     "metadata": {},
     "source": [
      "A linear model is one where: $E(\\bf{Y}|\\bf{X})$ is linear in the inputs. \n",
      "\n",
      "\n",
      "$y = \\beta_0 + \\beta_1 \\bf{x}_1 + \\beta_2 x_2 + ... + \\beta_p x_p +\\varepsilon = X \\beta + \\varepsilon$ \n",
      "\n",
      "for $x, \\beta \\in \\mathbb{R}^p$ and $\\varepsilon \\sim N(0, \\sigma^2),$ where $\\sigma^2$ is known.  In this example, we will use $\\sigma^2 = 10^{-2}.$  If we have observed $x_1, \\ldots, x_n \\in \\mathbb{R}^p$, the conditional distribution is $y | X, \\beta \\sim N(X \\beta, \\sigma^2 I),$ where\n",
      "\n",
      "$$X = \\begin{pmatrix}\n",
      "    x_1^T  \\\\\n",
      "    \\vdots \\\\\n",
      "    x_n^T\n",
      "    \\end{pmatrix} \\in \\mathbb{R}^{n \\times p}$$\n",
      "\n",
      "and\n",
      "\n",
      "$$y = \\begin{pmatrix}\n",
      "    y_1    \\\\\n",
      "    \\vdots \\\\\n",
      "    y_n\n",
      "    \\end{pmatrix} \\in \\mathbb{R}^n.$$\n",
      "    \n",
      "To determine the regression coefficients, we will use [maximum a posteriori esimation](http://en.wikipedia.org/wiki/Maximum_a_posteriori_estimation) (MAP), which is the Bayesian counterpart of [maximum likelihod estimation](http://en.wikipedia.org/wiki/Maximum_likelihood).  The MAP estimate of a quantity is the value with the largest posterior likelihood.  Before we can estimate the regression coefficients in this manner, we must place a prior distribution on them.  We will explore three different choices of prior distribution and the Bayesian approaches to which they each lead."
     ]
    },
    {
     "cell_type": "markdown",
     "metadata": {},
     "source": [
      "### Create our model"
     ]
    },
    {
     "cell_type": "code",
     "collapsed": false,
     "input": [
      "from scipy.stats import norm\n",
      "\n",
      "n = 1000\n",
      "\n",
      "x1 = norm.rvs(0, 1, size=n)\n",
      "x2 = -x1 + norm.rvs(0, 10**-3, size=n)\n",
      "#x2 = -0.67*x1 + norm.rvs(0, 10**-3, size=n)\n",
      "x3 = norm.rvs(0, 1, size=n)\n",
      "\n",
      "X = np.column_stack([x1, x2, x3])\n",
      "beta=[10, 10,0.1]\n",
      "#beta=[6, 9,0.1]\n",
      "def linear_model(X, beta):\n",
      "    return np.dot(X, beta)\n",
      "y = linear_model(X, beta)+norm.rvs(0, 10**-2, size=n)"
     ],
     "language": "python",
     "metadata": {},
     "outputs": [],
     "prompt_number": 2
    },
    {
     "cell_type": "markdown",
     "metadata": {},
     "source": [
      "### A Flat prior\n",
      "\n",
      "The simplest choice is the [improper](https://en.wikipedia.org/wiki/Prior_probability#Improper_priors), [uninformative](https://en.wikipedia.org/wiki/Prior_probability#Uninformative_priors) prior $\\pi(\\beta) = 1$ for $\\beta \\in \\mathbb{R}^p.$\n",
      "\n",
      "This prior reflects a belief that all possible values of the regression coefficients are equally likely.  It also induces significant simplication in Bayes' Theorem:\n",
      "\n",
      "$$\\begin{array}\n",
      "    {}f(\\beta | y, X) & = \\frac{f(y | X, \\beta) \\pi(\\beta)}{\\int_{-\\infty}^\\infty f(y | X, \\beta) \\pi(\\beta)\\ d \\beta} \\\\\n",
      "                    & = \\frac{f(y | X, \\beta)}{\\int_{-\\infty}^\\infty f(y | X, \\beta) \\ d \\beta}.\n",
      "\\end{array}$$\n",
      "\n",
      "The MAP estimate of $\\beta$ is\n",
      "\n",
      "$$\\begin{array}\n",
      "{}\\hat{\\beta}_{MAP} & = \\operatorname{max}_\\beta f(\\beta | y, X) \\\\\n",
      "                  & = \\operatorname{max}_\\beta \\frac{f(y | X, \\beta)}{\\int_{-\\infty}^\\infty f(y | X, \\beta) \\ d \\beta} \\\\\n",
      "                  & = \\operatorname{max}_\\beta f(y | X, \\beta),\n",
      "\\end{array}$$\n",
      "\n",
      "since the value of the integral is positive and does not depend on $\\beta$.  We see that with the uninformative prior $\\pi(\\beta) = 1$, the MAP estimate coincides with the maximum likelihood estimate.\n",
      "\n",
      "It is well-known that the maximum likelihood estimate of $\\beta$ is the [ordinary least squares](http://en.wikipedia.org/wiki/Ordinary_least_squares) estimate, $\\hat{\\beta}_{OLS} = (X^T X)^{-1} X^T y.$"
     ]
    },
    {
     "cell_type": "markdown",
     "metadata": {},
     "source": [
      "### The SVD and OLS\n",
      "\n",
      "The singular value decomposition of the matrix $\\bf{X}$ is defined as: \n",
      "\n",
      "$\\bf{X} = \\bf{UDV}^T$ \n",
      "\n",
      "Where $\\bf{U}$ and $\\bf{V}$ are unitary matrices (meaning that, for example $\\bf{U}^T\\bf{U} = \\bf{I}$) and $\\bf{D}$ is a diagonal matrix (meaning that off-diagonal values are equal to 0). \n",
      "\n",
      "If all the singular values of the matrix $\\bf{X}$ (the values in the diagonal of $\\bf{D}$) are non-zero, the matrix $\\bf{X}$ is 'full rank' and can be inverted. \n",
      "\n",
      "Importantly, for the matrix to be full rank, the eigenvalues  should all be non-zero.\n",
      "\n"
     ]
    },
    {
     "cell_type": "code",
     "collapsed": false,
     "input": [
      "import scipy.linalg as la\n",
      "\n",
      "U,D,V = la.svd(X, full_matrices = False) # We call full_matrices = False, to conform with the conventions in the text\n",
      "\n",
      "# We convert D to a diagonal matrix:\n",
      "D = np.diag(D)\n",
      "print \"D=\",D\n",
      "fig, ax = plt.subplots(1) \n",
      "im = ax.matshow(np.log(D))\n",
      "fig.colorbar(im)"
     ],
     "language": "python",
     "metadata": {},
     "outputs": [
      {
       "output_type": "stream",
       "stream": "stdout",
       "text": [
        "D= [[  4.57141122e+01   0.00000000e+00   0.00000000e+00]\n",
        " [  0.00000000e+00   3.09518758e+01   0.00000000e+00]\n",
        " [  0.00000000e+00   0.00000000e+00   2.27240665e-02]]\n"
       ]
      },
      {
       "metadata": {},
       "output_type": "pyout",
       "prompt_number": 3,
       "text": [
        "<matplotlib.colorbar.Colorbar instance at 0x07619AA8>"
       ]
      },
      {
       "metadata": {},
       "output_type": "display_data",
       "png": "[encoded data removed]",
       "text": [
        "<matplotlib.figure.Figure at 0x74eb390>"
       ]
      }
     ],
     "prompt_number": 3
    },
    {
     "cell_type": "markdown",
     "metadata": {},
     "source": [
      "### The OLS solution\n",
      "\n",
      "If this is the case, we can obtain the unique solution:  \n",
      "\n",
      "$ \\Rightarrow  \\hat{\\beta} = (\\bf{X}^T \\bf{X})^{-1}\\bf{X}^T\\bf{y}$,  \n",
      "\n",
      "Using $\\bf{\\hat{\\beta}}$, we can calculate back $\\bf{\\hat{y}}$, the estimate of the output and compare it to the actual output: \n",
      "\n",
      "$\\bf{\\hat{y}} = \\bf{X} \\bf{\\hat{\\beta}}$"
     ]
    },
    {
     "cell_type": "code",
     "collapsed": false,
     "input": [
      "def ols(X):\n",
      "    return np.dot(la.pinv(np.dot(X.T, X)), X.T)"
     ],
     "language": "python",
     "metadata": {},
     "outputs": [],
     "prompt_number": 4
    },
    {
     "cell_type": "code",
     "collapsed": false,
     "input": [
      "beta_hat = np.dot(ols(X), y)"
     ],
     "language": "python",
     "metadata": {},
     "outputs": [],
     "prompt_number": 5
    },
    {
     "cell_type": "code",
     "collapsed": false,
     "input": [
      "print beta\n",
      "print beta_hat"
     ],
     "language": "python",
     "metadata": {},
     "outputs": [
      {
       "output_type": "stream",
       "stream": "stdout",
       "text": [
        "[10, 10, 0.1]\n",
        "[ 10.24645831  10.24676059   0.09996467]\n"
       ]
      }
     ],
     "prompt_number": 6
    },
    {
     "cell_type": "markdown",
     "metadata": {},
     "source": [
      "The so called \"hat matrix\", or $ H $ is the matrix which defines the transformation from $\\bf{X}$ to the estimate $\\hat{y}$, so it's the matrix that \"puts the hat\" on $y$: \n",
      "\n",
      "$H = \\bf{X}(\\bf{X^T}\\bf{X})^{-1} \\bf{X^T}$\n",
      "\n",
      "$\\bf{\\hat{y}} = H \\bf{y}$"
     ]
    },
    {
     "cell_type": "code",
     "collapsed": false,
     "input": [
      "H = np.dot(X, ols(X))\n",
      "H.shape\n",
      "y_hat = np.dot(H.T, y)\n",
      "plt.plot(y, y_hat, 'o')\n",
      "plt.xlabel('The original output') \n",
      "plt.ylabel('Linear estimate of the output')"
     ],
     "language": "python",
     "metadata": {},
     "outputs": [
      {
       "metadata": {},
       "output_type": "pyout",
       "prompt_number": 7,
       "text": [
        "<matplotlib.text.Text at 0x74f99b0>"
       ]
      },
      {
       "metadata": {},
       "output_type": "display_data",
       "png": "[encoded data removed]",
       "text": [
        "<matplotlib.figure.Figure at 0x30e13b0>"
       ]
      }
     ],
     "prompt_number": 7
    },
    {
     "cell_type": "code",
     "collapsed": false,
     "input": [
      "xmax = 1000\n",
      "\n",
      "fig = plt.figure()\n",
      "ax = fig.add_subplot(111)\n",
      "ax.plot((-xmax, xmax), (1, 1));\n",
      "ax.set_ylim(bottom=0);"
     ],
     "language": "python",
     "metadata": {},
     "outputs": [
      {
       "metadata": {},
       "output_type": "display_data",
       "png": "[encoded data removed]",
       "text": [
        "<matplotlib.figure.Figure at 0x7703970>"
       ]
      }
     ],
     "prompt_number": 8
    },
    {
     "cell_type": "markdown",
     "metadata": {},
     "source": [
      "We see here that ordinary least squares regression recovers the full model, $y = 10 x_1 + 10 x_2 + 0.1 x_3$, not the more useful reduced model.  The reason that ordinary least squares results in the full model is that it assumes the regressors are independent, and therefore cannot account for the fact that $x_1$ and $x_2$ are highly correlated."
     ]
    },
    {
     "cell_type": "markdown",
     "metadata": {},
     "source": [
      "The uninformative prior represents the belief that all combinations of regression coefficients are equally likely.  In practice, this assumption is often not justified, and we may have reason to believe that many (or even most) of the regressors have little to no impact on the response.  Such a belief can be interpreted as a preference for simple models with fewer regressors.\n",
      "\n",
      "Given that the [normal distribution](http://en.wikipedia.org/wiki/Normal_distribution) is among the most studied objects in mathematics, a reasonable approach to quantifying this belief is to place zero-mean normal priors on the regression coefficients to indicate our preference for smaller values.  This choice of prior distribution gives rise to the technique of [ridge regression](http://en.wikipedia.org/wiki/Tikhonov_regularization).\n",
      "\n",
      "## Ridge regression \n",
      "\n",
      "This form of regression regularizes the regression by optimizing a variant of least squares or MLE: \n",
      "\n",
      "$\\hat{\\beta}^{ridge} = argmin_{\\beta} [(sum_{i=1}^{N} (y_i - \\beta_0 - \\sum_{j=1}^{p} x_{ij}\\beta_j)^2 + \\lambda \\sum_{j=1}^{p}{\\beta^2}]$\n",
      "\n",
      "Where $\\lambda \\geq 0$ is a complexity parameter that controls the amount of \"shrinkage\" of the model, by controlling the sum of squares of the parameter values and will control the bias-variance trade-off\n",
      "\n",
      "\n",
      "\n",
      "The solution to this problem is: \n",
      "\n",
      "$\\hat{\\beta}^{ridge} = (\\bf{X}^T\\bf{X} + \\lambda \\bf{I})^{-1} \\bf{X}^T y$"
     ]
    },
    {
     "cell_type": "markdown",
     "metadata": {},
     "source": [
      "### Cross-Validation\n",
      "\n",
      "How do we set $\\lambda$? In the frequentist paradigm this is done by cross-validation and thus having multiple test and training sets obtained from the same data."
     ]
    },
    {
     "cell_type": "code",
     "collapsed": false,
     "input": [
      "from sklearn.linear_model import RidgeCV\n",
      "\n",
      "skl_ridge_model = RidgeCV(fit_intercept=False, alphas=[0.1,1,3,6,10,100])\n",
      "skl_ridge_model.fit(X, y)\n",
      "skl_ridge_model.coef_"
     ],
     "language": "python",
     "metadata": {},
     "outputs": [
      {
       "metadata": {},
       "output_type": "pyout",
       "prompt_number": 9,
       "text": [
        "array([ 0.05252778,  0.05275087,  0.09982731])"
       ]
      }
     ],
     "prompt_number": 9
    },
    {
     "cell_type": "code",
     "collapsed": true,
     "input": [],
     "language": "python",
     "metadata": {},
     "outputs": [],
     "prompt_number": 9
    },
    {
     "cell_type": "code",
     "collapsed": false,
     "input": [
      "from sklearn.linear_model import LassoCV\n",
      "\n",
      "skl_lasso_model = LassoCV( alphas=[0.1,1,3,6,10,100])\n",
      "skl_lasso_model.fit(X, y)\n",
      "skl_lasso_model.coef_"
     ],
     "language": "python",
     "metadata": {},
     "outputs": [
      {
       "metadata": {},
       "output_type": "pyout",
       "prompt_number": 10,
       "text": [
        "array([-0.,  0.,  0.])"
       ]
      }
     ],
     "prompt_number": 10
    },
    {
     "cell_type": "code",
     "collapsed": false,
     "input": [
      "Lreg=skl_ridge_model.alpha_\n",
      "print Lreg"
     ],
     "language": "python",
     "metadata": {},
     "outputs": [
      {
       "output_type": "stream",
       "stream": "stdout",
       "text": [
        "0.1\n"
       ]
      }
     ],
     "prompt_number": 11
    },
    {
     "cell_type": "markdown",
     "metadata": {},
     "source": [
      "Lets use this parameter"
     ]
    },
    {
     "cell_type": "code",
     "collapsed": false,
     "input": [
      "def ridge_regression_matrix(X, L):\n",
      "    return np.dot(la.pinv(np.dot(X.T,X) + L * np.eye(X.shape[-1])), X.T)\n",
      "beta_ridge = np.dot(ridge_regression_matrix(X,Lreg), y)\n",
      "print beta_ridge"
     ],
     "language": "python",
     "metadata": {},
     "outputs": [
      {
       "output_type": "stream",
       "stream": "stdout",
       "text": [
        "[ 0.05252778  0.05275087  0.09982731]\n"
       ]
      }
     ],
     "prompt_number": 12
    },
    {
     "cell_type": "code",
     "collapsed": false,
     "input": [
      "H_ridge = np.dot(X, ridge_regression_matrix(X,Lreg))"
     ],
     "language": "python",
     "metadata": {},
     "outputs": [],
     "prompt_number": 13
    },
    {
     "cell_type": "code",
     "collapsed": false,
     "input": [
      "y_hat_ridge = np.dot(H_ridge.T, y)"
     ],
     "language": "python",
     "metadata": {},
     "outputs": [],
     "prompt_number": 14
    },
    {
     "cell_type": "code",
     "collapsed": false,
     "input": [
      "plt.plot(y, y_hat, 'o', alpha=0.2, label=\"ols\")\n",
      "plt.plot(y, y_hat_ridge, '^', alpha=0.2, label=\"ridge\")\n",
      "plt.xlabel('The original output') \n",
      "plt.legend();"
     ],
     "language": "python",
     "metadata": {},
     "outputs": [
      {
       "metadata": {},
       "output_type": "display_data",
       "png": "[encoded data removed]",
       "text": [
        "<matplotlib.figure.Figure at 0x7b917f0>"
       ]
      }
     ],
     "prompt_number": 15
    },
    {
     "cell_type": "markdown",
     "metadata": {},
     "source": [
      "### Ridge regression comes from a gaussian prior\n",
      "\n",
      "The likelihood is because we assume independency the product \n",
      "\n",
      "\\begin{eqnarray} \n",
      "\\Lik &=& p(\\by|X,\\bw) = \\prod_{i=1}^{n} p(y_i|\\bX_i, \\bw) = \\frac{1}{\\sqrt{2\\pi}\\sigma}  \\prod_{i=1}^{n} \n",
      "   \\exp{ \\left( -\\frac{(y_i-\\bX_i \\bw)^2}{2\\sigma^2} \\right)}  \\nonumber \\\\ \n",
      "   &=& \\frac{1}{\\sqrt{2\\pi}\\sigma} \\exp{\\left( -\\frac{| \\by-X \\bw|^2 }{2\\sigma^2} \\right)} = N(X \\bw,  \\sigma^2 I)\n",
      "\\end{eqnarray}\n",
      "   \n",
      "where $|x|$ denotes the Euclidean length of vector $\\bx$. \n",
      "\n",
      "In the Bayesian framework inference we need to specify a prior\n",
      "over the parameters that expresses our belief about the parameters\n",
      "before we take any measurements. A wise choice is a zero mean \n",
      "Gaussian with covariance matrix $\\Sigma$ \n",
      "\n",
      "\\begin{equation}\n",
      " \\beta \\sim N(0, \\Sigma) \n",
      "\\end{equation}\n",
      "\n",
      "We'll set $\\Sigma = \\tau^2 \\bf{I}$.\n",
      "\n",
      "We can now continue with the standard Bayesian formalism \n",
      "\n",
      "\\begin{eqnarray}\n",
      " p(\\bw| \\by,X) &\\propto& p(\\by | X, \\bw) \\, p(\\bw) \\nonumber \\\\\n",
      "                       &\\propto& \\exp{ \\left(- \\frac{1}{2 \\sigma^2}(\\by-X \\bw)^T(\\by - X \\bw) \\right)}\n",
      "                        \\exp{\\left( -\\frac{1}{2\\tau^2} \\bw^T \\bw \\right)}  \\nonumber \\\\ \n",
      " \\end{eqnarray}\n",
      " \n",
      "In the next step we `complete the square` and obtain \n",
      "\n",
      "\\begin{equation}\n",
      "p(\\bw| \\by,X)  \\propto  \\exp \\left( -\\frac{1}{2} (\\bw - \\bar{\\bw})^T  (\\frac{1}{\\sigma^2} X^T X + \\tau^{-2}\\bf{I})(\\bw - \\bar{\\bw} )  \\right)\n",
      "\\end{equation}\n",
      "\n",
      "where $\\bar{\\bw} = \\sigma^{-2}( \\sigma^{-2}X^T X +\\tau^{-2}\\bf{I})^{-1} X^T \\by $.\n",
      "This looks like a Gaussian and therefore the posterior is\n",
      "\n",
      "$$ p(\\bw| X, {\\bf y}) \\sim {\\cal N}( \\frac{1}{\\sigma^2} A^{-1}X^T y , A^{-1} ) $$\n",
      "\n",
      "where $A= \\sigma^{-2}X^T X +\\tau^{-2}\\bf{I}$\n",
      "\n",
      "This then makes:\n",
      "$$\n",
      "\\hat{\\bw} = (\\bf{X}^T\\bf{X} + \\lambda \\bf{I})^{-1} \\bf{X}^T y,\n",
      "$$\n",
      "\n",
      "and we get the formula for ridge regression if we identify \n",
      "\n",
      "$$\\lambda = \\frac{\\sigma^2}{\\tau^2}$$. Thus, if the prior is a very diffuse gaussian, the regularization goes to 0.\n"
     ]
    },
    {
     "cell_type": "markdown",
     "metadata": {},
     "source": [
      "###Ridge and PCA\n",
      "\n",
      "![reg and pca](http://nbviewer.ipython.org/github/cs109/content/blob/master/labs/lab4/data/pcavsfit.png)\n",
      "\n",
      "Using our SVD from before, we can derive the OLS solution: \n",
      "\n",
      "$X\\hat{\\beta} = \\bf{X}(\\bf{X}^T\\bf{X})^{-1} \\bf{X}^T y = \\bf{UU}^T y $\n",
      "\n",
      "Thus, another way to rewrite the ridge regression, using the results of the SVD: \n",
      "\n",
      "$\\bf{X} \\hat{\\beta} ^ {ridge} = U D (D^2 + \\lambda I)^{-1} D U^T y $ \n",
      "\n",
      "If $d_i$ are the diagonal elements of $D$, then, on going from OLS to ridge, the betas are thus scaled by $\\frac{d_i^2}{d_i^2 +\\lambda}$.\n",
      "\n",
      "The elements with largest  $d_i$, are the principal components which have the largest singular values, i.e., the earliest principal components. So, ridge regression suppresses the leading principal components only slightly, but the later ones greatly. Thus, the \u201cshrinkage\u201d is not on the leading principal components."
     ]
    },
    {
     "cell_type": "code",
     "collapsed": false,
     "input": [
      "from sklearn.decomposition import PCA"
     ],
     "language": "python",
     "metadata": {},
     "outputs": [],
     "prompt_number": 16
    },
    {
     "cell_type": "code",
     "collapsed": false,
     "input": [
      "pca = PCA(n_components=3)\n",
      "pca.fit(X)\n",
      "pca.explained_variance_ratio_"
     ],
     "language": "python",
     "metadata": {},
     "outputs": [
      {
       "metadata": {},
       "output_type": "pyout",
       "prompt_number": 17,
       "text": [
        "array([  6.85838530e-01,   3.14161301e-01,   1.69631471e-07])"
       ]
      }
     ],
     "prompt_number": 17
    },
    {
     "cell_type": "code",
     "collapsed": false,
     "input": [
      "pca.components_"
     ],
     "language": "python",
     "metadata": {},
     "outputs": [
      {
       "metadata": {},
       "output_type": "pyout",
       "prompt_number": 18,
       "text": [
        "array([[  7.06915973e-01,  -7.06909725e-01,  -2.34189502e-02],\n",
        "       [  1.65531133e-02,  -1.65662837e-02,   9.99725739e-01],\n",
        "       [  7.07103812e-01,   7.07109750e-01,   9.41378066e-06]])"
       ]
      }
     ],
     "prompt_number": 18
    },
    {
     "cell_type": "code",
     "collapsed": false,
     "input": [
      "from mpl_toolkits.mplot3d import Axes3D\n",
      "fig = plt.figure()\n",
      "ax = fig.add_subplot(111, projection='3d')\n",
      "pts=pca.components_\n",
      "ax.plot([0,pts[0][0]], [0,pts[0][1]], [0,pts[0][2]])\n",
      "ax.plot([0,pts[1][0]], [0,pts[1][1]], [0,pts[1][2]])\n",
      "ax.plot([0,pts[2][0]], [0,pts[2][1]], [0,pts[2][2]])\n"
     ],
     "language": "python",
     "metadata": {},
     "outputs": [
      {
       "metadata": {},
       "output_type": "pyout",
       "prompt_number": 19,
       "text": [
        "[<mpl_toolkits.mplot3d.art3d.Line3D at 0x7bd6d10>]"
       ]
      },
      {
       "metadata": {},
       "output_type": "display_data",
       "png": "[encoded data removed]",
       "text": [
        "<matplotlib.figure.Figure at 0x7bbde70>"
       ]
      }
     ],
     "prompt_number": 19
    },
    {
     "cell_type": "markdown",
     "metadata": {},
     "source": [
      "### Whither the prior?\n",
      "\n",
      "So, in the Bayesian paradigm, how exactly do we set the prior for $\\tau^$? In the frequentist paradigm we use cross-validation, or more generally the notion of leaving something out. One of the advantages of the Bayesian paradigm is that one can do analyses with the full data, and we dont need to repeat our fitting procedure multiple times. What? Is there a free lunch?\n",
      "\n",
      "(Remember that CV has atleast one advantage: it is atleast robust tothe specification of the model. As long as we have a cost function we will minimize, we can do it generally for any model. In Bayesian we are stuck with our modelling and have to remodel)\n",
      "\n",
      "Given our highly correlated co-variates, obviously, an uninformative prior would not have done a very good job. Regularization needs, at the very least, a somewhat informative prior.\n",
      "\n",
      "But first, lets think of the structure of our model. We could have set a separate prior on each one of the $\\beta$, by having a full covariance matrix. But we didnt, attempting to create a situation where we assumed that the $\\beta_i$ were all drawn from the same gaussian distribution. Thus this suggests to us that we might be able to use the full structure of the data to set our prior.\n",
      "\n",
      "\n"
     ]
    },
    {
     "cell_type": "markdown",
     "metadata": {},
     "source": [
      "## Model Evidence and marginal likelyhood.\n",
      "\n",
      "The model evidence $p(\\mathbf{y}|m)$ is the probability of the data given the model $m$. It is also known as the marginal likelihood, or the prior predictive density.  The model evidence captures in a single number how well such a model explains the observations.  Model complexity is already taken into account by the model evidence, because it marginalizes out the parameters. \n",
      "\n",
      "$$p(\\mathbf{y}|m)=\\int p(\\mathbf{y}|\\mathbf{X},\\boldsymbol\\beta,\\sigma)\\, p(\\boldsymbol\\beta,\\sigma)\\, d\\boldsymbol\\beta\\, d\\sigma\n",
      "$$\n",
      "\n",
      "![Razor](https://dl.dropboxusercontent.com/u/75194/BayesOccamsRazor.png)\n",
      "\n",
      "Lets go the first step. we fix the model m, but we dont know the hyperparameter $\\tau$ for our prior.\n",
      "\n",
      "$$p(\\mathbf{y}|\\tau)=\\int p(\\mathbf{y}|\\mathbf{X},\\boldsymbol\\beta,\\sigma,\\tau)\\, p(\\boldsymbol\\beta,\\tau, \\sigma)\\, d\\boldsymbol\\beta \\,d\\sigma\n",
      "$$\n",
      "\n",
      "and\n",
      "\n",
      "$$\n",
      "p(\\boldsymbol\\beta,\\tau, \\sigma) = p(\\beta,\\sigma| \\tau)p(\\tau)\n",
      "$$\n",
      "\n",
      "We can set $p(\\tau)$ to an uninformative prior and argmax:\n",
      "\n",
      "$\\tau =  argmax_{\\tau}$ (Marginal Likelihood).\n",
      "\n",
      "Note that:\n",
      "\n",
      "$$\\beta | \\sigma^2 \\sim N(0, \\tau^2\\bf{I}) = N(0, \\frac{\\sigma^2}{\\lambda})$$\n",
      "\n",
      "and\n",
      "\n",
      "$$\\sigma^2 \\sim IG(\\nu / 2, \\nu \\sigma_0^2 /2)$$.\n",
      "\n",
      "From the lecture:\n",
      "\n",
      "The posterior distribution of $\\sigma^2$ can be obtained by performing an integration over known \n",
      "values of $\\theta$: \n",
      "\n",
      "$$ p(\\sigma^2|y) \\sim p(\\sigma^2) p(y| \\sigma^2)  \n",
      "= p(\\sigma^2) \\int p(y | \\theta, \\sigma^2 ) \\, p(\\theta | \\sigma^2) d\\theta \n",
      " $$\n",
      "\n",
      "The result is:\n",
      "\n",
      "$$ p(\\sigma^2| y) \\sim \\rm{gamma}(\\nu_{n} /2, \\nu_{n} \\sigma^2_{n}/2) $$\n",
      "where \n",
      "\n",
      "$$ \\nu_n = \\nu+n $$ \n",
      "\n",
      "$$ \\sigma_n^2 = \\frac{1}{\\nu_n} \\left[  \\nu \\sigma_0^2 +(n-1) \\, s^2 + \\frac{ \\lambda n }{\\lambda+ n}(\\bar{y})^2 \\right] $$\n",
      "\n",
      "and $s^2$ is the sample variance. This may now be maximized with respect to $\\lambda$ to set its value."
     ]
    },
    {
     "cell_type": "markdown",
     "metadata": {},
     "source": [
      "## A hierarchical example\n",
      "\n",
      "The below data is from tumors in rats of type \"F344\" that recieve a particular drug. The first column is the number that get the tumor; the second is the total number or rats tested"
     ]
    },
    {
     "cell_type": "code",
     "collapsed": false,
     "input": [
      "tumordata=\"\"\"0 20 \n",
      "0 20 \n",
      "0 20 \n",
      "0 20 \n",
      "0 20 \n",
      "0 20 \n",
      "0 20 \n",
      "0 19 \n",
      "0 19 \n",
      "0 19 \n",
      "0 19 \n",
      "0 18 \n",
      "0 18 \n",
      "0 17 \n",
      "1 20 \n",
      "1 20 \n",
      "1 20 \n",
      "1 20 \n",
      "1 19 \n",
      "1 19 \n",
      "1 18 \n",
      "1 18 \n",
      "3 27 \n",
      "2 25 \n",
      "2 24 \n",
      "2 23 \n",
      "2 20 \n",
      "2 20 \n",
      "2 20 \n",
      "2 20 \n",
      "2 20 \n",
      "2 20 \n",
      "1 10 \n",
      "5 49 \n",
      "2 19 \n",
      "5 46 \n",
      "2 17 \n",
      "7 49 \n",
      "7 47 \n",
      "3 20 \n",
      "3 20 \n",
      "2 13 \n",
      "9 48 \n",
      "10 50 \n",
      "4 20 \n",
      "4 20 \n",
      "4 20 \n",
      "4 20 \n",
      "4 20 \n",
      "4 20 \n",
      "4 20 \n",
      "10 48 \n",
      "4 19 \n",
      "4 19 \n",
      "4 19 \n",
      "5 22 \n",
      "11 46 \n",
      "12 49 \n",
      "5 20 \n",
      "5 20 \n",
      "6 23 \n",
      "5 19 \n",
      "6 22 \n",
      "6 20 \n",
      "6 20 \n",
      "6 20 \n",
      "16 52 \n",
      "15 46 \n",
      "15 47 \n",
      "9 24 \n",
      "\"\"\"\n",
      "data=[e.strip().split(' ') for e in tumordata.strip().split(\"\\n\")]\n",
      "tumory=[e[0] for e in data]\n",
      "tumorN=[e[1] for e in data]"
     ],
     "language": "python",
     "metadata": {},
     "outputs": [],
     "prompt_number": 20
    },
    {
     "cell_type": "code",
     "collapsed": false,
     "input": [
      "current_y=4\n",
      "current_N=14"
     ],
     "language": "python",
     "metadata": {},
     "outputs": [],
     "prompt_number": 21
    },
    {
     "cell_type": "markdown",
     "metadata": {},
     "source": [
      "It makes sense to use a Binomial Model, and thus a conjugate beta prior to describe this data. We want to get the posterior predictive for the current data.\n",
      "\n",
      "The first thing we might do is to just assume that the distribution is approximately beta, use that to get the parameters $\\alpha$ and $\\beta$ in terms of the mean and standard deviation, and then look at the posterior:\n",
      "\n",
      "$$Beta(\\alpha+4, \\beta+14). $$\n",
      "\n",
      "![single](http://f.cl.ly/items/0R1W063h1h0W2M2C0S3M/Screen%20Shot%202013-10-10%20at%208.22.21%20AM.png)"
     ]
    },
    {
     "cell_type": "markdown",
     "metadata": {},
     "source": [
      "Another idea might be to model each test differently:\n",
      "![multiple](http://f.cl.ly/items/38020n2t2Y2b1p3t0B0e/Screen%20Shot%202013-10-10%20at%208.23.36%20AM.png)"
     ]
    },
    {
     "cell_type": "markdown",
     "metadata": {},
     "source": [
      "A better idea would be to go hierarchical, and assume that for each trial, there was a $\\theta_j$ from which the bonomial was drawn. Then, lets assume that *ALL* of these $\\theta_j$ are drawn from a common $Beta(\\alpha, \\beta)$ distribution. Such a model is called a hierarchical distribution. \n",
      "\n",
      "![hierarchical](http://f.cl.ly/items/1B3U223i002y3V2W3r0W/Screen%20Shot%202013-10-10%20at%208.25.05%20AM.png)\n",
      "\n",
      "For a Beta distribution we have:\n",
      "\n",
      "$$\\alpha + \\beta = \\frac{E(\\theta)(1 - E(\\theta))}{Var(\\theta)} - 1 $$\n",
      "\n",
      "and \n",
      "\n",
      "$$\\alpha = (\\alpha + \\beta) E(\\theta), \\,\\,\\,\\,\\,   \\beta = (\\alpha + \\beta)(1 - E(\\theta)) .$$"
     ]
    },
    {
     "cell_type": "code",
     "collapsed": false,
     "input": [
      "tumor_rat = [float(e[0])/float(e[1]) for e in zip(tumory, tumorN)]\n",
      "tmean = np.mean(tumor_rat)\n",
      "tvar = np.var(tumor_rat)\n",
      "print tmean, tvar"
     ],
     "language": "python",
     "metadata": {},
     "outputs": [
      {
       "output_type": "stream",
       "stream": "stdout",
       "text": [
        "0.13600653889 0.0105576406236\n"
       ]
      }
     ],
     "prompt_number": 22
    },
    {
     "cell_type": "code",
     "collapsed": false,
     "input": [
      "aplusb = tmean*(1-tmean)/tvar - 1"
     ],
     "language": "python",
     "metadata": {},
     "outputs": [],
     "prompt_number": 23
    },
    {
     "cell_type": "code",
     "collapsed": false,
     "input": [
      "a=aplusb*tmean\n",
      "b=aplusb*(1.0 - tmean)\n",
      "print a,b"
     ],
     "language": "python",
     "metadata": {},
     "outputs": [
      {
       "output_type": "stream",
       "stream": "stdout",
       "text": [
        "1.37777483929 8.75243544715\n"
       ]
      }
     ],
     "prompt_number": 24
    },
    {
     "cell_type": "code",
     "collapsed": false,
     "input": [
      "from scipy.stats import beta\n",
      "beta_current = beta(a+4,b+14)"
     ],
     "language": "python",
     "metadata": {},
     "outputs": [],
     "prompt_number": 25
    },
    {
     "cell_type": "code",
     "collapsed": false,
     "input": [
      "beta_current.mean(), beta_current.std(), 4.0/14.0"
     ],
     "language": "python",
     "metadata": {},
     "outputs": [
      {
       "metadata": {},
       "output_type": "pyout",
       "prompt_number": 26,
       "text": [
        "(0.19117435612925673, 0.07285686239655785, 0.2857142857142857)"
       ]
      }
     ],
     "prompt_number": 26
    },
    {
     "cell_type": "markdown",
     "metadata": {},
     "source": [
      "If we use the model to make inferences about the first 40 experiments, we are double-counting.\n",
      "\n",
      "This is not a full bayesian treatment.\n",
      "\n",
      "For that we need to analytically integrate out the $\\theta_i$:\n",
      "\n",
      "$$\n",
      "p(D|\\alpha, \\beta) = \\prod_i \\int Bin(y_i|N_i, \\theta_i) Beta(\\theta_i | \\alpha, \\beta) d\\theta_i \\\\\n",
      "= \\prod_i \\frac{B(\\alpha+y_i,\\beta+N_i - y_i)}{B(a,b)}\n",
      "$$\n",
      "\n",
      "This function may be minimized by creating recursions and using the EM algorithm."
     ]
    },
    {
     "cell_type": "markdown",
     "metadata": {},
     "source": [
      "### Example: Kidney Cancers in the US\n",
      "\n",
      "![kidney cancers](https://dl.dropboxusercontent.com/u/75194/cancers.png)"
     ]
    },
    {
     "cell_type": "markdown",
     "metadata": {},
     "source": [
      "How would you model this?\n",
      "\n",
      "How would you set the priors?"
     ]
    }
   ],
   "metadata": {}
  }
 ]
}