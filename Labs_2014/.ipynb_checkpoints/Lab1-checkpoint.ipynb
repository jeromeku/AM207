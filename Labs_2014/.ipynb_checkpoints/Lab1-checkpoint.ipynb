{
 "metadata": {
  "name": "",
  "signature": "sha256:7e8be7d9d35c418baa9e7a10e1b6a9b590d301c97770c01aecbf049fc9e92b8e"
 },
 "nbformat": 3,
 "nbformat_minor": 0,
 "worksheets": [
  {
   "cells": [
    {
     "cell_type": "heading",
     "level": 2,
     "metadata": {},
     "source": [
      "Python, Pandas and Matplotlib"
     ]
    },
    {
     "cell_type": "markdown",
     "metadata": {},
     "source": [
      "###-1. Preliminary plotting stuff to get things going"
     ]
    },
    {
     "cell_type": "code",
     "collapsed": false,
     "input": [
      "%matplotlib inline\n",
      "import numpy as np\n",
      "import scipy as sp\n",
      "import matplotlib.pyplot as plt\n",
      "import pandas as pd\n",
      "pd.set_option('display.width', 500)\n",
      "pd.set_option('display.max_columns', 100)\n",
      "import seaborn as sns"
     ],
     "language": "python",
     "metadata": {},
     "outputs": [],
     "prompt_number": 1
    },
    {
     "cell_type": "markdown",
     "metadata": {},
     "source": [
      "###0. Preliminaries about Python\n",
      "\n",
      "In working with python I always remember: a python is a duck.\n",
      "\n",
      "What I mean is, python has a certain way of doing things. For example lets call one of these ways listiness. Listiness works on lists, dictionaries, files, and a general notion of something called an iterator.\n",
      "\n",
      "But first, lets introduce the notion of a comprehension. Its a way of constructing a list"
     ]
    },
    {
     "cell_type": "code",
     "collapsed": false,
     "input": [
      "alist=[1,2,3,4,5]\n",
      "asquaredlist=[i*i for i in alist]\n",
      "asquaredlist"
     ],
     "language": "python",
     "metadata": {},
     "outputs": [
      {
       "metadata": {},
       "output_type": "pyout",
       "prompt_number": 2,
       "text": [
        "[1, 4, 9, 16, 25]"
       ]
      }
     ],
     "prompt_number": 2
    },
    {
     "cell_type": "markdown",
     "metadata": {},
     "source": [
      "Python has some nifty functions like `enumerate` and `zip`."
     ]
    },
    {
     "cell_type": "code",
     "collapsed": false,
     "input": [
      "enumerate(asquaredlist)"
     ],
     "language": "python",
     "metadata": {},
     "outputs": [
      {
       "metadata": {},
       "output_type": "pyout",
       "prompt_number": 3,
       "text": [
        "<enumerate at 0x752f170>"
       ]
      }
     ],
     "prompt_number": 3
    },
    {
     "cell_type": "markdown",
     "metadata": {},
     "source": [
      "Thats a strange type. But its really a duck."
     ]
    },
    {
     "cell_type": "code",
     "collapsed": false,
     "input": [
      "[the_tuple for the_tuple in enumerate(asquaredlist)]"
     ],
     "language": "python",
     "metadata": {},
     "outputs": [
      {
       "metadata": {},
       "output_type": "pyout",
       "prompt_number": 4,
       "text": [
        "[(0, 1), (1, 4), (2, 9), (3, 16), (4, 25)]"
       ]
      }
     ],
     "prompt_number": 4
    },
    {
     "cell_type": "markdown",
     "metadata": {},
     "source": [
      "This next one is very usefil in combining lists together..."
     ]
    },
    {
     "cell_type": "code",
     "collapsed": false,
     "input": [
      "zip(alist, asquaredlist)"
     ],
     "language": "python",
     "metadata": {},
     "outputs": [
      {
       "metadata": {},
       "output_type": "pyout",
       "prompt_number": 5,
       "text": [
        "[(1, 1), (2, 4), (3, 9), (4, 16), (5, 25)]"
       ]
      }
     ],
     "prompt_number": 5
    },
    {
     "cell_type": "markdown",
     "metadata": {},
     "source": [
      "Open files behave like lists too!"
     ]
    },
    {
     "cell_type": "code",
     "collapsed": false,
     "input": [
      "linelengths=[len(line) for line in open(\"data/olive.csv\")]\n",
      "print linelengths"
     ],
     "language": "python",
     "metadata": {},
     "outputs": [
      {
       "output_type": "stream",
       "stream": "stdout",
       "text": [
        "[88, 49, 49, 48, 48, 49, 48, 48, 49, 49, 50, 50, 50, 50, 49, 49, 50, 49, 50, 49, 49, 50, 49, 50, 50, 50, 47, 47, 47, 47, 47, 47, 47, 47, 47, 47, 47, 46, 47, 47, 47, 47, 47, 47, 47, 46, 47, 47, 47, 47, 46, 46, 46, 47, 46, 47, 47, 47, 47, 47, 47, 47, 47, 47, 47, 47, 47, 47, 47, 47, 47, 47, 47, 47, 47, 47, 47, 47, 46, 47, 47, 47, 52, 51, 52, 51, 51, 52, 52, 52, 52, 52, 52, 52, 52, 52, 52, 52, 52, 52, 53, 53, 53, 53, 53, 53, 53, 53, 53, 53, 53, 53, 53, 53, 53, 53, 53, 53, 53, 53, 53, 52, 53, 53, 53, 53, 53, 53, 53, 53, 53, 53, 53, 53, 53, 53, 53, 53, 53, 52, 53, 53, 53, 53, 53, 53, 53, 53, 53, 53, 53, 53, 53, 53, 53, 53, 53, 53, 53, 53, 53, 53, 53, 53, 53, 53, 53, 53, 53, 53, 53, 53, 53, 53, 53, 53, 53, 53, 53, 53, 53, 53, 53, 53, 53, 53, 53, 53, 53, 53, 52, 53, 53, 53, 53, 53, 53, 53, 53, 53, 53, 53, 53, 53, 53, 53, 53, 53, 53, 53, 53, 52, 53, 53, 53, 53, 53, 52, 52, 53, 53, 53, 53, 53, 53, 53, 52, 52, 53, 53, 52, 53, 53, 52, 53, 53, 52, 53, 53, 53, 53, 53, 53, 53, 53, 53, 53, 53, 53, 53, 53, 53, 53, 53, 53, 53, 53, 53, 46, 47, 47, 47, 46, 45, 45, 45, 44, 45, 45, 45, 45, 44, 44, 45, 46, 46, 47, 47, 46, 47, 46, 46, 47, 46, 45, 45, 46, 44, 44, 44, 45, 45, 45, 45, 53, 53, 52, 53, 52, 53, 53, 53, 53, 53, 53, 53, 53, 53, 53, 53, 53, 53, 53, 53, 53, 53, 53, 54, 53, 53, 53, 53, 53, 53, 55, 55, 54, 54, 54, 55, 55, 55, 54, 55, 54, 53, 54, 54, 54, 53, 54, 54, 55, 54, 54, 54, 54, 54, 55, 54, 54, 55, 54, 54, 54, 54, 55, 54, 54, 54, 55, 54, 54, 54, 54, 54, 54, 55, 54, 54, 55, 53, 54, 54, 53, 54, 53, 54, 53, 54, 53, 53, 54, 53, 54, 54, 54, 54, 54, 54, 54, 54, 55, 54, 54, 54, 55, 54, 54, 54, 54, 56, 54, 55, 54, 55, 54, 54, 55, 54, 53, 54, 53, 53, 54, 53, 54, 54, 53, 53, 53, 54, 44, 44, 44, 44, 44, 44, 44, 44, 44, 44, 44, 44, 44, 44, 44, 44, 44, 44, 44, 44, 44, 44, 44, 44, 44, 44, 44, 44, 44, 44, 44, 44, 44, 44, 44, 44, 44, 44, 44, 44, 44, 44, 44, 44, 44, 44, 44, 44, 44, 44, 44, 51, 50, 50, 50, 50, 50, 50, 50, 51, 50, 51, 52, 50, 51, 51, 51, 51, 50, 51, 50, 50, 50, 51, 50, 50, 51, 50, 51, 51, 50, 49, 50, 50, 50, 50, 50, 50, 51, 51, 50, 50, 50, 50, 50, 50, 50, 50, 50, 50, 48, 51, 50, 50, 50, 51, 51, 51, 49, 49, 49, 50, 51, 51, 49, 48, 47, 47, 50, 51, 48, 50, 48, 51, 51, 49, 49, 50, 50, 49, 49, 49, 48, 50, 47, 49, 51, 48, 49, 49, 51, 49, 49, 49, 49, 51, 51, 51, 48, 50, 49]\n"
       ]
      }
     ],
     "prompt_number": 7
    },
    {
     "cell_type": "markdown",
     "metadata": {},
     "source": [
      "And so do dictionaries. But know what you are accessing:"
     ]
    },
    {
     "cell_type": "code",
     "collapsed": false,
     "input": [
      "adict={'one':1, 'two': 2, 'three': 3}\n",
      "print [i for i in adict], [(k,v) for k,v in adict.items()], adict.values()"
     ],
     "language": "python",
     "metadata": {},
     "outputs": [
      {
       "output_type": "stream",
       "stream": "stdout",
       "text": [
        "['three', 'two', 'one'] [('three', 3), ('two', 2), ('one', 1)] [3, 2, 1]\n"
       ]
      }
     ],
     "prompt_number": 8
    },
    {
     "cell_type": "markdown",
     "metadata": {},
     "source": [
      "`xrange` is another duck!"
     ]
    },
    {
     "cell_type": "code",
     "collapsed": false,
     "input": [
      "mylist=[]\n",
      "for i in xrange(10):\n",
      "    mylist.append(i)\n",
      "mylist"
     ],
     "language": "python",
     "metadata": {},
     "outputs": [
      {
       "metadata": {},
       "output_type": "pyout",
       "prompt_number": 9,
       "text": [
        "[0, 1, 2, 3, 4, 5, 6, 7, 8, 9]"
       ]
      }
     ],
     "prompt_number": 9
    },
    {
     "cell_type": "markdown",
     "metadata": {},
     "source": [
      "From python 2.7 onwards you can construct dictionaries using dictionary comprehensions:"
     ]
    },
    {
     "cell_type": "code",
     "collapsed": false,
     "input": [
      "{k:v for (k,v) in zip(alist, asquaredlist)}"
     ],
     "language": "python",
     "metadata": {},
     "outputs": [
      {
       "metadata": {},
       "output_type": "pyout",
       "prompt_number": 10,
       "text": [
        "{1: 1, 2: 4, 3: 9, 4: 16, 5: 25}"
       ]
      }
     ],
     "prompt_number": 10
    },
    {
     "cell_type": "markdown",
     "metadata": {},
     "source": [
      "create a dictionary with keys the integers upto and including 10, and values the cubes of these dictionaries"
     ]
    },
    {
     "cell_type": "code",
     "collapsed": false,
     "input": [
      "thelist=range(11)\n",
      "{k:v for (k,v) in zip(thelist, [i*i*i for i in thelist])}"
     ],
     "language": "python",
     "metadata": {},
     "outputs": [
      {
       "metadata": {},
       "output_type": "pyout",
       "prompt_number": 11,
       "text": [
        "{0: 0,\n",
        " 1: 1,\n",
        " 2: 8,\n",
        " 3: 27,\n",
        " 4: 64,\n",
        " 5: 125,\n",
        " 6: 216,\n",
        " 7: 343,\n",
        " 8: 512,\n",
        " 9: 729,\n",
        " 10: 1000}"
       ]
      }
     ],
     "prompt_number": 11
    },
    {
     "cell_type": "markdown",
     "metadata": {},
     "source": [
      "###1. The Olive Oils dataset"
     ]
    },
    {
     "cell_type": "markdown",
     "metadata": {},
     "source": [
      "Some of the following text is taken from the rggobi book (http://www.ggobi.org/book/). It is an excellent book on visualization and EDA for classification, and is available freely as a pdf from Hollis for those with a Harvard Id. Even though the book uses ggobi, a lot of the same analysis can be done in Mondrian or directly in Matplotlib/Pandas (albeit not interactively)."
     ]
    },
    {
     "cell_type": "markdown",
     "metadata": {},
     "source": [
      "<hr/>\n",
      "\n",
      "\"The Olive Oils data has eight explanatory variables (levels of fatty acids in the oils) and nine classes (areas of Italy). The goal of the analysis is to develop rules that reliably distinguish oils from the nine different areas. It is a problem of practical interest, because oil from some areas is more highly valued and unscrupulous suppliers sometimes make false claims about the origin of their oil. The content of the oils is a subject of study in its own right: Olive oil has high nutritional value, and some of its constituent fatty acids are considered to be more beneficial than others.\"\n",
      "\n",
      "In addition, fatty acid contents vary with climate: this information is important in deciding which varieties to grow where.\n",
      "\n"
     ]
    },
    {
     "cell_type": "markdown",
     "metadata": {},
     "source": [
      "\"Source: Forina, M., Armanino, C., Lanteri, S. & Tiscornia, E. (1983), Classification of Olive Oils from their Fatty Acid Composition, in Martens, H. and\n",
      "Russwurm Jr., H., eds, Food Research and Data Analysis, Applied Science\n",
      "Publishers, London, pp. 189\u2013214. It was brought to our attention by Glover\n",
      "& Hopke (1992).\n",
      "\n",
      "Number of rows: 572\n",
      "\n",
      "Number of variables: 10\n",
      "\n",
      "Description: This data consists of the percentage composition of fatty acids\n",
      "found in the lipid fraction of Italian olive oils. The data arises from a study\n",
      "to determine the authenticity of an olive oil.\"\n",
      "<hr/>"
     ]
    },
    {
     "cell_type": "code",
     "collapsed": false,
     "input": [
      "from IPython.display import Image\n",
      "Image(filename='data/Italy.png')"
     ],
     "language": "python",
     "metadata": {},
     "outputs": [
      {
       "metadata": {},
       "output_type": "pyout",
       "png": "[encoded data removed]",
       "prompt_number": 12,
       "text": [
        "<IPython.core.display.Image at 0x75c22f0>"
       ]
      }
     ],
     "prompt_number": 12
    },
    {
     "cell_type": "markdown",
     "metadata": {},
     "source": [
      "In working with pandas and matplotlib I dont always remember the syntax. A programmer is a good tool for converting Stack Overflow snippets into code. I almost always put what I am trying to do into google and go from there. \n",
      "\n",
      "That said, I found the following links very useful in understanding the Pandas mode, how things work.\n",
      "\n",
      "* http://blog.yhathq.com/posts/R-and-pandas-and-what-ive-learned-about-each.html\n",
      "* http://www.bearrelroll.com/2013/05/python-pandas-tutorial/\n",
      "* http://manishamde.github.io/blog/2013/03/07/pandas-and-python-top-10/"
     ]
    },
    {
     "cell_type": "markdown",
     "metadata": {},
     "source": [
      "###2. Loading and Cleaning"
     ]
    },
    {
     "cell_type": "markdown",
     "metadata": {},
     "source": [
      "Let's load the olive oil dataset into a pandas dataframe and have a look at the first 5 rows."
     ]
    },
    {
     "cell_type": "code",
     "collapsed": false,
     "input": [
      "df=pd.read_csv(\"data/olive.csv\")\n",
      "df.head(5)"
     ],
     "language": "python",
     "metadata": {},
     "outputs": [
      {
       "html": [
        "<div style=\"max-height:1000px;max-width:1500px;overflow:auto;\">\n",
        "<table border=\"1\" class=\"dataframe\">\n",
        "  <thead>\n",
        "    <tr style=\"text-align: right;\">\n",
        "      <th></th>\n",
        "      <th>Unnamed: 0</th>\n",
        "      <th>region</th>\n",
        "      <th>area</th>\n",
        "      <th>palmitic</th>\n",
        "      <th>palmitoleic</th>\n",
        "      <th>stearic</th>\n",
        "      <th>oleic</th>\n",
        "      <th>linoleic</th>\n",
        "      <th>linolenic</th>\n",
        "      <th>arachidic</th>\n",
        "      <th>eicosenoic</th>\n",
        "    </tr>\n",
        "  </thead>\n",
        "  <tbody>\n",
        "    <tr>\n",
        "      <th>0</th>\n",
        "      <td> 1.North-Apulia</td>\n",
        "      <td> 1</td>\n",
        "      <td> 1</td>\n",
        "      <td> 1075</td>\n",
        "      <td> 75</td>\n",
        "      <td> 226</td>\n",
        "      <td> 7823</td>\n",
        "      <td> 672</td>\n",
        "      <td> 36</td>\n",
        "      <td> 60</td>\n",
        "      <td> 29</td>\n",
        "    </tr>\n",
        "    <tr>\n",
        "      <th>1</th>\n",
        "      <td> 2.North-Apulia</td>\n",
        "      <td> 1</td>\n",
        "      <td> 1</td>\n",
        "      <td> 1088</td>\n",
        "      <td> 73</td>\n",
        "      <td> 224</td>\n",
        "      <td> 7709</td>\n",
        "      <td> 781</td>\n",
        "      <td> 31</td>\n",
        "      <td> 61</td>\n",
        "      <td> 29</td>\n",
        "    </tr>\n",
        "    <tr>\n",
        "      <th>2</th>\n",
        "      <td> 3.North-Apulia</td>\n",
        "      <td> 1</td>\n",
        "      <td> 1</td>\n",
        "      <td>  911</td>\n",
        "      <td> 54</td>\n",
        "      <td> 246</td>\n",
        "      <td> 8113</td>\n",
        "      <td> 549</td>\n",
        "      <td> 31</td>\n",
        "      <td> 63</td>\n",
        "      <td> 29</td>\n",
        "    </tr>\n",
        "    <tr>\n",
        "      <th>3</th>\n",
        "      <td> 4.North-Apulia</td>\n",
        "      <td> 1</td>\n",
        "      <td> 1</td>\n",
        "      <td>  966</td>\n",
        "      <td> 57</td>\n",
        "      <td> 240</td>\n",
        "      <td> 7952</td>\n",
        "      <td> 619</td>\n",
        "      <td> 50</td>\n",
        "      <td> 78</td>\n",
        "      <td> 35</td>\n",
        "    </tr>\n",
        "    <tr>\n",
        "      <th>4</th>\n",
        "      <td> 5.North-Apulia</td>\n",
        "      <td> 1</td>\n",
        "      <td> 1</td>\n",
        "      <td> 1051</td>\n",
        "      <td> 67</td>\n",
        "      <td> 259</td>\n",
        "      <td> 7771</td>\n",
        "      <td> 672</td>\n",
        "      <td> 50</td>\n",
        "      <td> 80</td>\n",
        "      <td> 46</td>\n",
        "    </tr>\n",
        "  </tbody>\n",
        "</table>\n",
        "</div>"
       ],
       "metadata": {},
       "output_type": "pyout",
       "prompt_number": 13,
       "text": [
        "       Unnamed: 0  region  area  palmitic  palmitoleic  stearic  oleic  linoleic  linolenic  arachidic  eicosenoic\n",
        "0  1.North-Apulia       1     1      1075           75      226   7823       672         36         60          29\n",
        "1  2.North-Apulia       1     1      1088           73      224   7709       781         31         61          29\n",
        "2  3.North-Apulia       1     1       911           54      246   8113       549         31         63          29\n",
        "3  4.North-Apulia       1     1       966           57      240   7952       619         50         78          35\n",
        "4  5.North-Apulia       1     1      1051           67      259   7771       672         50         80          46"
       ]
      }
     ],
     "prompt_number": 13
    },
    {
     "cell_type": "markdown",
     "metadata": {},
     "source": [
      "Let's rename that ugly first column. \n",
      "\n",
      "*Hint*: A Google search for 'python pandas dataframe rename' points you at this <a href=\"http://pandas.pydata.org/pandas-docs/dev/generated/pandas.DataFrame.rename.html\">documentation</a>."
     ]
    },
    {
     "cell_type": "code",
     "collapsed": false,
     "input": [
      "print df.columns\n",
      "df.rename(columns={df.columns[0]:'areastring'}, inplace=True)\n",
      "df.columns"
     ],
     "language": "python",
     "metadata": {},
     "outputs": [
      {
       "output_type": "stream",
       "stream": "stdout",
       "text": [
        "Index([u'Unnamed: 0', u'region', u'area', u'palmitic', u'palmitoleic', u'stearic', u'oleic', u'linoleic', u'linolenic', u'arachidic', u'eicosenoic'], dtype='object')\n"
       ]
      },
      {
       "metadata": {},
       "output_type": "pyout",
       "prompt_number": 14,
       "text": [
        "Index([u'areastring', u'region', u'area', u'palmitic', u'palmitoleic', u'stearic', u'oleic', u'linoleic', u'linolenic', u'arachidic', u'eicosenoic'], dtype='object')"
       ]
      }
     ],
     "prompt_number": 14
    },
    {
     "cell_type": "markdown",
     "metadata": {},
     "source": [
      "Let's explore. Which unique regions and areas are contained in the dataset?"
     ]
    },
    {
     "cell_type": "code",
     "collapsed": false,
     "input": [
      "print 'regions\\t', df.region.unique()\n",
      "print 'areas\\t', df.area.unique()"
     ],
     "language": "python",
     "metadata": {},
     "outputs": [
      {
       "output_type": "stream",
       "stream": "stdout",
       "text": [
        "regions\t[1 2 3]\n",
        "areas\t[1 2 3 4 5 6 9 7 8]\n"
       ]
      }
     ],
     "prompt_number": 15
    },
    {
     "cell_type": "markdown",
     "metadata": {},
     "source": [
      "Let's create a *crosstab*ulation or contingency table of the factors.\n",
      "\n",
      "*Hint*: A Google search for 'python pandas cross tabulation' points you at this <a href=\"http://pandas.pydata.org/pandas-docs/stable/reshaping.html#cross-tabulations\">documentation</a>.\n"
     ]
    },
    {
     "cell_type": "code",
     "collapsed": false,
     "input": [
      "pd.crosstab(df.area, df.region)"
     ],
     "language": "python",
     "metadata": {},
     "outputs": [
      {
       "html": [
        "<div style=\"max-height:1000px;max-width:1500px;overflow:auto;\">\n",
        "<table border=\"1\" class=\"dataframe\">\n",
        "  <thead>\n",
        "    <tr style=\"text-align: right;\">\n",
        "      <th>region</th>\n",
        "      <th>1</th>\n",
        "      <th>2</th>\n",
        "      <th>3</th>\n",
        "    </tr>\n",
        "    <tr>\n",
        "      <th>area</th>\n",
        "      <th></th>\n",
        "      <th></th>\n",
        "      <th></th>\n",
        "    </tr>\n",
        "  </thead>\n",
        "  <tbody>\n",
        "    <tr>\n",
        "      <th>1</th>\n",
        "      <td>  25</td>\n",
        "      <td>  0</td>\n",
        "      <td>  0</td>\n",
        "    </tr>\n",
        "    <tr>\n",
        "      <th>2</th>\n",
        "      <td>  56</td>\n",
        "      <td>  0</td>\n",
        "      <td>  0</td>\n",
        "    </tr>\n",
        "    <tr>\n",
        "      <th>3</th>\n",
        "      <td> 206</td>\n",
        "      <td>  0</td>\n",
        "      <td>  0</td>\n",
        "    </tr>\n",
        "    <tr>\n",
        "      <th>4</th>\n",
        "      <td>  36</td>\n",
        "      <td>  0</td>\n",
        "      <td>  0</td>\n",
        "    </tr>\n",
        "    <tr>\n",
        "      <th>5</th>\n",
        "      <td>   0</td>\n",
        "      <td> 65</td>\n",
        "      <td>  0</td>\n",
        "    </tr>\n",
        "    <tr>\n",
        "      <th>6</th>\n",
        "      <td>   0</td>\n",
        "      <td> 33</td>\n",
        "      <td>  0</td>\n",
        "    </tr>\n",
        "    <tr>\n",
        "      <th>7</th>\n",
        "      <td>   0</td>\n",
        "      <td>  0</td>\n",
        "      <td> 50</td>\n",
        "    </tr>\n",
        "    <tr>\n",
        "      <th>8</th>\n",
        "      <td>   0</td>\n",
        "      <td>  0</td>\n",
        "      <td> 50</td>\n",
        "    </tr>\n",
        "    <tr>\n",
        "      <th>9</th>\n",
        "      <td>   0</td>\n",
        "      <td>  0</td>\n",
        "      <td> 51</td>\n",
        "    </tr>\n",
        "  </tbody>\n",
        "</table>\n",
        "</div>"
       ],
       "metadata": {},
       "output_type": "pyout",
       "prompt_number": 16,
       "text": [
        "region    1   2   3\n",
        "area               \n",
        "1        25   0   0\n",
        "2        56   0   0\n",
        "3       206   0   0\n",
        "4        36   0   0\n",
        "5         0  65   0\n",
        "6         0  33   0\n",
        "7         0   0  50\n",
        "8         0   0  50\n",
        "9         0   0  51"
       ]
      }
     ],
     "prompt_number": 16
    },
    {
     "cell_type": "markdown",
     "metadata": {},
     "source": [
      "Do we need to clean the dataset before we can explore it a little more? Let's have a look."
     ]
    },
    {
     "cell_type": "code",
     "collapsed": false,
     "input": [
      "df.head()"
     ],
     "language": "python",
     "metadata": {},
     "outputs": [
      {
       "html": [
        "<div style=\"max-height:1000px;max-width:1500px;overflow:auto;\">\n",
        "<table border=\"1\" class=\"dataframe\">\n",
        "  <thead>\n",
        "    <tr style=\"text-align: right;\">\n",
        "      <th></th>\n",
        "      <th>areastring</th>\n",
        "      <th>region</th>\n",
        "      <th>area</th>\n",
        "      <th>palmitic</th>\n",
        "      <th>palmitoleic</th>\n",
        "      <th>stearic</th>\n",
        "      <th>oleic</th>\n",
        "      <th>linoleic</th>\n",
        "      <th>linolenic</th>\n",
        "      <th>arachidic</th>\n",
        "      <th>eicosenoic</th>\n",
        "    </tr>\n",
        "  </thead>\n",
        "  <tbody>\n",
        "    <tr>\n",
        "      <th>0</th>\n",
        "      <td> 1.North-Apulia</td>\n",
        "      <td> 1</td>\n",
        "      <td> 1</td>\n",
        "      <td> 1075</td>\n",
        "      <td> 75</td>\n",
        "      <td> 226</td>\n",
        "      <td> 7823</td>\n",
        "      <td> 672</td>\n",
        "      <td> 36</td>\n",
        "      <td> 60</td>\n",
        "      <td> 29</td>\n",
        "    </tr>\n",
        "    <tr>\n",
        "      <th>1</th>\n",
        "      <td> 2.North-Apulia</td>\n",
        "      <td> 1</td>\n",
        "      <td> 1</td>\n",
        "      <td> 1088</td>\n",
        "      <td> 73</td>\n",
        "      <td> 224</td>\n",
        "      <td> 7709</td>\n",
        "      <td> 781</td>\n",
        "      <td> 31</td>\n",
        "      <td> 61</td>\n",
        "      <td> 29</td>\n",
        "    </tr>\n",
        "    <tr>\n",
        "      <th>2</th>\n",
        "      <td> 3.North-Apulia</td>\n",
        "      <td> 1</td>\n",
        "      <td> 1</td>\n",
        "      <td>  911</td>\n",
        "      <td> 54</td>\n",
        "      <td> 246</td>\n",
        "      <td> 8113</td>\n",
        "      <td> 549</td>\n",
        "      <td> 31</td>\n",
        "      <td> 63</td>\n",
        "      <td> 29</td>\n",
        "    </tr>\n",
        "    <tr>\n",
        "      <th>3</th>\n",
        "      <td> 4.North-Apulia</td>\n",
        "      <td> 1</td>\n",
        "      <td> 1</td>\n",
        "      <td>  966</td>\n",
        "      <td> 57</td>\n",
        "      <td> 240</td>\n",
        "      <td> 7952</td>\n",
        "      <td> 619</td>\n",
        "      <td> 50</td>\n",
        "      <td> 78</td>\n",
        "      <td> 35</td>\n",
        "    </tr>\n",
        "    <tr>\n",
        "      <th>4</th>\n",
        "      <td> 5.North-Apulia</td>\n",
        "      <td> 1</td>\n",
        "      <td> 1</td>\n",
        "      <td> 1051</td>\n",
        "      <td> 67</td>\n",
        "      <td> 259</td>\n",
        "      <td> 7771</td>\n",
        "      <td> 672</td>\n",
        "      <td> 50</td>\n",
        "      <td> 80</td>\n",
        "      <td> 46</td>\n",
        "    </tr>\n",
        "  </tbody>\n",
        "</table>\n",
        "</div>"
       ],
       "metadata": {},
       "output_type": "pyout",
       "prompt_number": 17,
       "text": [
        "       areastring  region  area  palmitic  palmitoleic  stearic  oleic  linoleic  linolenic  arachidic  eicosenoic\n",
        "0  1.North-Apulia       1     1      1075           75      226   7823       672         36         60          29\n",
        "1  2.North-Apulia       1     1      1088           73      224   7709       781         31         61          29\n",
        "2  3.North-Apulia       1     1       911           54      246   8113       549         31         63          29\n",
        "3  4.North-Apulia       1     1       966           57      240   7952       619         50         78          35\n",
        "4  5.North-Apulia       1     1      1051           67      259   7771       672         50         80          46"
       ]
      }
     ],
     "prompt_number": 17
    },
    {
     "cell_type": "markdown",
     "metadata": {},
     "source": [
      "Let's get rid of the junk numbering in `df.areastring`. For single column Pandas Series we use `map`. Here's the <a href=\"http://pandas.pydata.org/pandas-docs/dev/generated/pandas.Series.map.html\">documentation</a>."
     ]
    },
    {
     "cell_type": "code",
     "collapsed": false,
     "input": [
      "df.areastring=df.areastring.map(lambda x: x.split('.')[-1])\n",
      "df.head()"
     ],
     "language": "python",
     "metadata": {},
     "outputs": [
      {
       "html": [
        "<div style=\"max-height:1000px;max-width:1500px;overflow:auto;\">\n",
        "<table border=\"1\" class=\"dataframe\">\n",
        "  <thead>\n",
        "    <tr style=\"text-align: right;\">\n",
        "      <th></th>\n",
        "      <th>areastring</th>\n",
        "      <th>region</th>\n",
        "      <th>area</th>\n",
        "      <th>palmitic</th>\n",
        "      <th>palmitoleic</th>\n",
        "      <th>stearic</th>\n",
        "      <th>oleic</th>\n",
        "      <th>linoleic</th>\n",
        "      <th>linolenic</th>\n",
        "      <th>arachidic</th>\n",
        "      <th>eicosenoic</th>\n",
        "    </tr>\n",
        "  </thead>\n",
        "  <tbody>\n",
        "    <tr>\n",
        "      <th>0</th>\n",
        "      <td> North-Apulia</td>\n",
        "      <td> 1</td>\n",
        "      <td> 1</td>\n",
        "      <td> 1075</td>\n",
        "      <td> 75</td>\n",
        "      <td> 226</td>\n",
        "      <td> 7823</td>\n",
        "      <td> 672</td>\n",
        "      <td> 36</td>\n",
        "      <td> 60</td>\n",
        "      <td> 29</td>\n",
        "    </tr>\n",
        "    <tr>\n",
        "      <th>1</th>\n",
        "      <td> North-Apulia</td>\n",
        "      <td> 1</td>\n",
        "      <td> 1</td>\n",
        "      <td> 1088</td>\n",
        "      <td> 73</td>\n",
        "      <td> 224</td>\n",
        "      <td> 7709</td>\n",
        "      <td> 781</td>\n",
        "      <td> 31</td>\n",
        "      <td> 61</td>\n",
        "      <td> 29</td>\n",
        "    </tr>\n",
        "    <tr>\n",
        "      <th>2</th>\n",
        "      <td> North-Apulia</td>\n",
        "      <td> 1</td>\n",
        "      <td> 1</td>\n",
        "      <td>  911</td>\n",
        "      <td> 54</td>\n",
        "      <td> 246</td>\n",
        "      <td> 8113</td>\n",
        "      <td> 549</td>\n",
        "      <td> 31</td>\n",
        "      <td> 63</td>\n",
        "      <td> 29</td>\n",
        "    </tr>\n",
        "    <tr>\n",
        "      <th>3</th>\n",
        "      <td> North-Apulia</td>\n",
        "      <td> 1</td>\n",
        "      <td> 1</td>\n",
        "      <td>  966</td>\n",
        "      <td> 57</td>\n",
        "      <td> 240</td>\n",
        "      <td> 7952</td>\n",
        "      <td> 619</td>\n",
        "      <td> 50</td>\n",
        "      <td> 78</td>\n",
        "      <td> 35</td>\n",
        "    </tr>\n",
        "    <tr>\n",
        "      <th>4</th>\n",
        "      <td> North-Apulia</td>\n",
        "      <td> 1</td>\n",
        "      <td> 1</td>\n",
        "      <td> 1051</td>\n",
        "      <td> 67</td>\n",
        "      <td> 259</td>\n",
        "      <td> 7771</td>\n",
        "      <td> 672</td>\n",
        "      <td> 50</td>\n",
        "      <td> 80</td>\n",
        "      <td> 46</td>\n",
        "    </tr>\n",
        "  </tbody>\n",
        "</table>\n",
        "</div>"
       ],
       "metadata": {},
       "output_type": "pyout",
       "prompt_number": 18,
       "text": [
        "     areastring  region  area  palmitic  palmitoleic  stearic  oleic  linoleic  linolenic  arachidic  eicosenoic\n",
        "0  North-Apulia       1     1      1075           75      226   7823       672         36         60          29\n",
        "1  North-Apulia       1     1      1088           73      224   7709       781         31         61          29\n",
        "2  North-Apulia       1     1       911           54      246   8113       549         31         63          29\n",
        "3  North-Apulia       1     1       966           57      240   7952       619         50         78          35\n",
        "4  North-Apulia       1     1      1051           67      259   7771       672         50         80          46"
       ]
      }
     ],
     "prompt_number": 18
    },
    {
     "cell_type": "markdown",
     "metadata": {},
     "source": [
      "To access a specific subset of columns of a dataframe, we can use list indexing."
     ]
    },
    {
     "cell_type": "code",
     "collapsed": false,
     "input": [
      "df[['palmitic','oleic']].head()"
     ],
     "language": "python",
     "metadata": {},
     "outputs": [
      {
       "html": [
        "<div style=\"max-height:1000px;max-width:1500px;overflow:auto;\">\n",
        "<table border=\"1\" class=\"dataframe\">\n",
        "  <thead>\n",
        "    <tr style=\"text-align: right;\">\n",
        "      <th></th>\n",
        "      <th>palmitic</th>\n",
        "      <th>oleic</th>\n",
        "    </tr>\n",
        "  </thead>\n",
        "  <tbody>\n",
        "    <tr>\n",
        "      <th>0</th>\n",
        "      <td> 1075</td>\n",
        "      <td> 7823</td>\n",
        "    </tr>\n",
        "    <tr>\n",
        "      <th>1</th>\n",
        "      <td> 1088</td>\n",
        "      <td> 7709</td>\n",
        "    </tr>\n",
        "    <tr>\n",
        "      <th>2</th>\n",
        "      <td>  911</td>\n",
        "      <td> 8113</td>\n",
        "    </tr>\n",
        "    <tr>\n",
        "      <th>3</th>\n",
        "      <td>  966</td>\n",
        "      <td> 7952</td>\n",
        "    </tr>\n",
        "    <tr>\n",
        "      <th>4</th>\n",
        "      <td> 1051</td>\n",
        "      <td> 7771</td>\n",
        "    </tr>\n",
        "  </tbody>\n",
        "</table>\n",
        "</div>"
       ],
       "metadata": {},
       "output_type": "pyout",
       "prompt_number": 19,
       "text": [
        "   palmitic  oleic\n",
        "0      1075   7823\n",
        "1      1088   7709\n",
        "2       911   8113\n",
        "3       966   7952\n",
        "4      1051   7771"
       ]
      }
     ],
     "prompt_number": 19
    },
    {
     "cell_type": "markdown",
     "metadata": {},
     "source": [
      "Notice that this returns a new object of type DataFrame."
     ]
    },
    {
     "cell_type": "markdown",
     "metadata": {},
     "source": [
      "To access the series of entries of a single column, we could do the following."
     ]
    },
    {
     "cell_type": "code",
     "collapsed": false,
     "input": [
      "print df['palmitic']"
     ],
     "language": "python",
     "metadata": {},
     "outputs": [
      {
       "output_type": "stream",
       "stream": "stdout",
       "text": [
        "0     1075\n",
        "1     1088\n",
        "2      911\n",
        "3      966\n",
        "4     1051\n",
        "5      911\n",
        "6      922\n",
        "7     1100\n",
        "8     1082\n",
        "9     1037\n",
        "10    1051\n",
        "11    1036\n",
        "12    1074\n",
        "13     875\n",
        "14     952\n",
        "...\n",
        "557    1010\n",
        "558    1020\n",
        "559    1120\n",
        "560    1090\n",
        "561    1100\n",
        "562    1090\n",
        "563    1150\n",
        "564    1110\n",
        "565    1010\n",
        "566    1070\n",
        "567    1280\n",
        "568    1060\n",
        "569    1010\n",
        "570     990\n",
        "571     960\n",
        "Name: palmitic, Length: 572, dtype: int64\n"
       ]
      }
     ],
     "prompt_number": 20
    },
    {
     "cell_type": "markdown",
     "metadata": {},
     "source": [
      "Notice the difference in the syntax. In the first example where we used list indexing we got a new DataFrame. In the second example we got a series corresponding to the column. "
     ]
    },
    {
     "cell_type": "code",
     "collapsed": false,
     "input": [
      "print \"type of df[['palmitic']]:\\t\", type(df[['palmitic']]) \n",
      "print \"type of df['palmitic']:\\t\\t\", type(df['palmitic'])"
     ],
     "language": "python",
     "metadata": {},
     "outputs": [
      {
       "output_type": "stream",
       "stream": "stdout",
       "text": [
        "type of df[['palmitic']]:\t<class 'pandas.core.frame.DataFrame'>\n",
        "type of df['palmitic']:\t\t<class 'pandas.core.series.Series'>\n"
       ]
      }
     ],
     "prompt_number": 21
    },
    {
     "cell_type": "markdown",
     "metadata": {},
     "source": [
      "To access the series of values of a single column more conveniently, we can do this:"
     ]
    },
    {
     "cell_type": "code",
     "collapsed": false,
     "input": [
      "df.palmitic"
     ],
     "language": "python",
     "metadata": {},
     "outputs": [
      {
       "metadata": {},
       "output_type": "pyout",
       "prompt_number": 22,
       "text": [
        "0     1075\n",
        "1     1088\n",
        "2      911\n",
        "3      966\n",
        "4     1051\n",
        "5      911\n",
        "6      922\n",
        "7     1100\n",
        "8     1082\n",
        "9     1037\n",
        "10    1051\n",
        "11    1036\n",
        "12    1074\n",
        "13     875\n",
        "14     952\n",
        "...\n",
        "557    1010\n",
        "558    1020\n",
        "559    1120\n",
        "560    1090\n",
        "561    1100\n",
        "562    1090\n",
        "563    1150\n",
        "564    1110\n",
        "565    1010\n",
        "566    1070\n",
        "567    1280\n",
        "568    1060\n",
        "569    1010\n",
        "570     990\n",
        "571     960\n",
        "Name: palmitic, Length: 572, dtype: int64"
       ]
      }
     ],
     "prompt_number": 22
    },
    {
     "cell_type": "markdown",
     "metadata": {},
     "source": [
      "Get the unique areastrings of the dataframe `df`."
     ]
    },
    {
     "cell_type": "code",
     "collapsed": false,
     "input": [
      "df.areastring.unique()"
     ],
     "language": "python",
     "metadata": {},
     "outputs": [
      {
       "metadata": {},
       "output_type": "pyout",
       "prompt_number": 23,
       "text": [
        "array(['North-Apulia', 'Calabria', 'South-Apulia', 'Sicily',\n",
        "       'Inland-Sardinia', 'Coast-Sardinia', 'Umbria', 'East-Liguria',\n",
        "       'West-Liguria'], dtype=object)"
       ]
      }
     ],
     "prompt_number": 23
    },
    {
     "cell_type": "markdown",
     "metadata": {},
     "source": [
      "Create a new dataframe `dfsub` by taking the list of acids and using pandas' `apply` function to divide all values by 100.\n",
      "\n",
      "If you're not familiar with pandas' `apply` function, a Google search for 'python pandas dataframe apply' points you to the <a href=\"http://pandas.pydata.org/pandas-docs/dev/generated/pandas.DataFrame.apply.html\">documentation</a>"
     ]
    },
    {
     "cell_type": "code",
     "collapsed": false,
     "input": [
      "acidlist=['palmitic', 'palmitoleic', 'stearic', 'oleic', 'linoleic', 'linolenic', 'arachidic', 'eicosenoic']\n",
      "\n",
      "#your code here\n",
      "\n",
      "dfsub=df[acidlist].apply(lambda x: x/100.0)\n",
      "dfsub.head()"
     ],
     "language": "python",
     "metadata": {},
     "outputs": [
      {
       "html": [
        "<div style=\"max-height:1000px;max-width:1500px;overflow:auto;\">\n",
        "<table border=\"1\" class=\"dataframe\">\n",
        "  <thead>\n",
        "    <tr style=\"text-align: right;\">\n",
        "      <th></th>\n",
        "      <th>palmitic</th>\n",
        "      <th>palmitoleic</th>\n",
        "      <th>stearic</th>\n",
        "      <th>oleic</th>\n",
        "      <th>linoleic</th>\n",
        "      <th>linolenic</th>\n",
        "      <th>arachidic</th>\n",
        "      <th>eicosenoic</th>\n",
        "    </tr>\n",
        "  </thead>\n",
        "  <tbody>\n",
        "    <tr>\n",
        "      <th>0</th>\n",
        "      <td> 10.75</td>\n",
        "      <td> 0.75</td>\n",
        "      <td> 2.26</td>\n",
        "      <td> 78.23</td>\n",
        "      <td> 6.72</td>\n",
        "      <td> 0.36</td>\n",
        "      <td> 0.60</td>\n",
        "      <td> 0.29</td>\n",
        "    </tr>\n",
        "    <tr>\n",
        "      <th>1</th>\n",
        "      <td> 10.88</td>\n",
        "      <td> 0.73</td>\n",
        "      <td> 2.24</td>\n",
        "      <td> 77.09</td>\n",
        "      <td> 7.81</td>\n",
        "      <td> 0.31</td>\n",
        "      <td> 0.61</td>\n",
        "      <td> 0.29</td>\n",
        "    </tr>\n",
        "    <tr>\n",
        "      <th>2</th>\n",
        "      <td>  9.11</td>\n",
        "      <td> 0.54</td>\n",
        "      <td> 2.46</td>\n",
        "      <td> 81.13</td>\n",
        "      <td> 5.49</td>\n",
        "      <td> 0.31</td>\n",
        "      <td> 0.63</td>\n",
        "      <td> 0.29</td>\n",
        "    </tr>\n",
        "    <tr>\n",
        "      <th>3</th>\n",
        "      <td>  9.66</td>\n",
        "      <td> 0.57</td>\n",
        "      <td> 2.40</td>\n",
        "      <td> 79.52</td>\n",
        "      <td> 6.19</td>\n",
        "      <td> 0.50</td>\n",
        "      <td> 0.78</td>\n",
        "      <td> 0.35</td>\n",
        "    </tr>\n",
        "    <tr>\n",
        "      <th>4</th>\n",
        "      <td> 10.51</td>\n",
        "      <td> 0.67</td>\n",
        "      <td> 2.59</td>\n",
        "      <td> 77.71</td>\n",
        "      <td> 6.72</td>\n",
        "      <td> 0.50</td>\n",
        "      <td> 0.80</td>\n",
        "      <td> 0.46</td>\n",
        "    </tr>\n",
        "  </tbody>\n",
        "</table>\n",
        "</div>"
       ],
       "metadata": {},
       "output_type": "pyout",
       "prompt_number": 24,
       "text": [
        "   palmitic  palmitoleic  stearic  oleic  linoleic  linolenic  arachidic  eicosenoic\n",
        "0     10.75         0.75     2.26  78.23      6.72       0.36       0.60        0.29\n",
        "1     10.88         0.73     2.24  77.09      7.81       0.31       0.61        0.29\n",
        "2      9.11         0.54     2.46  81.13      5.49       0.31       0.63        0.29\n",
        "3      9.66         0.57     2.40  79.52      6.19       0.50       0.78        0.35\n",
        "4     10.51         0.67     2.59  77.71      6.72       0.50       0.80        0.46"
       ]
      }
     ],
     "prompt_number": 24
    },
    {
     "cell_type": "markdown",
     "metadata": {},
     "source": [
      "Notice that we can replace part of the dataframe by this new frame. Since we need the percentages, let's do this. The `Oleic` percentages should be in the 70s and 80s if you did this right."
     ]
    },
    {
     "cell_type": "code",
     "collapsed": false,
     "input": [
      "df[acidlist]=dfsub\n",
      "df.head()"
     ],
     "language": "python",
     "metadata": {},
     "outputs": [
      {
       "html": [
        "<div style=\"max-height:1000px;max-width:1500px;overflow:auto;\">\n",
        "<table border=\"1\" class=\"dataframe\">\n",
        "  <thead>\n",
        "    <tr style=\"text-align: right;\">\n",
        "      <th></th>\n",
        "      <th>areastring</th>\n",
        "      <th>region</th>\n",
        "      <th>area</th>\n",
        "      <th>palmitic</th>\n",
        "      <th>palmitoleic</th>\n",
        "      <th>stearic</th>\n",
        "      <th>oleic</th>\n",
        "      <th>linoleic</th>\n",
        "      <th>linolenic</th>\n",
        "      <th>arachidic</th>\n",
        "      <th>eicosenoic</th>\n",
        "    </tr>\n",
        "  </thead>\n",
        "  <tbody>\n",
        "    <tr>\n",
        "      <th>0</th>\n",
        "      <td> North-Apulia</td>\n",
        "      <td> 1</td>\n",
        "      <td> 1</td>\n",
        "      <td> 10.75</td>\n",
        "      <td> 0.75</td>\n",
        "      <td> 2.26</td>\n",
        "      <td> 78.23</td>\n",
        "      <td> 6.72</td>\n",
        "      <td> 0.36</td>\n",
        "      <td> 0.60</td>\n",
        "      <td> 0.29</td>\n",
        "    </tr>\n",
        "    <tr>\n",
        "      <th>1</th>\n",
        "      <td> North-Apulia</td>\n",
        "      <td> 1</td>\n",
        "      <td> 1</td>\n",
        "      <td> 10.88</td>\n",
        "      <td> 0.73</td>\n",
        "      <td> 2.24</td>\n",
        "      <td> 77.09</td>\n",
        "      <td> 7.81</td>\n",
        "      <td> 0.31</td>\n",
        "      <td> 0.61</td>\n",
        "      <td> 0.29</td>\n",
        "    </tr>\n",
        "    <tr>\n",
        "      <th>2</th>\n",
        "      <td> North-Apulia</td>\n",
        "      <td> 1</td>\n",
        "      <td> 1</td>\n",
        "      <td>  9.11</td>\n",
        "      <td> 0.54</td>\n",
        "      <td> 2.46</td>\n",
        "      <td> 81.13</td>\n",
        "      <td> 5.49</td>\n",
        "      <td> 0.31</td>\n",
        "      <td> 0.63</td>\n",
        "      <td> 0.29</td>\n",
        "    </tr>\n",
        "    <tr>\n",
        "      <th>3</th>\n",
        "      <td> North-Apulia</td>\n",
        "      <td> 1</td>\n",
        "      <td> 1</td>\n",
        "      <td>  9.66</td>\n",
        "      <td> 0.57</td>\n",
        "      <td> 2.40</td>\n",
        "      <td> 79.52</td>\n",
        "      <td> 6.19</td>\n",
        "      <td> 0.50</td>\n",
        "      <td> 0.78</td>\n",
        "      <td> 0.35</td>\n",
        "    </tr>\n",
        "    <tr>\n",
        "      <th>4</th>\n",
        "      <td> North-Apulia</td>\n",
        "      <td> 1</td>\n",
        "      <td> 1</td>\n",
        "      <td> 10.51</td>\n",
        "      <td> 0.67</td>\n",
        "      <td> 2.59</td>\n",
        "      <td> 77.71</td>\n",
        "      <td> 6.72</td>\n",
        "      <td> 0.50</td>\n",
        "      <td> 0.80</td>\n",
        "      <td> 0.46</td>\n",
        "    </tr>\n",
        "  </tbody>\n",
        "</table>\n",
        "</div>"
       ],
       "metadata": {},
       "output_type": "pyout",
       "prompt_number": 25,
       "text": [
        "     areastring  region  area  palmitic  palmitoleic  stearic  oleic  linoleic  linolenic  arachidic  eicosenoic\n",
        "0  North-Apulia       1     1     10.75         0.75     2.26  78.23      6.72       0.36       0.60        0.29\n",
        "1  North-Apulia       1     1     10.88         0.73     2.24  77.09      7.81       0.31       0.61        0.29\n",
        "2  North-Apulia       1     1      9.11         0.54     2.46  81.13      5.49       0.31       0.63        0.29\n",
        "3  North-Apulia       1     1      9.66         0.57     2.40  79.52      6.19       0.50       0.78        0.35\n",
        "4  North-Apulia       1     1     10.51         0.67     2.59  77.71      6.72       0.50       0.80        0.46"
       ]
      }
     ],
     "prompt_number": 25
    },
    {
     "cell_type": "code",
     "collapsed": false,
     "input": [
      "df.palmitic.mean(), df.palmitic.std(), df.palmitic.var()"
     ],
     "language": "python",
     "metadata": {},
     "outputs": [
      {
       "metadata": {},
       "output_type": "pyout",
       "prompt_number": 26,
       "text": [
        "(12.317412587412583, 1.6859226405632937, 2.8423351499639087)"
       ]
      }
     ],
     "prompt_number": 26
    },
    {
     "cell_type": "code",
     "collapsed": false,
     "input": [
      "df.palmitic.std(), np.sqrt(df.palmitic.var())"
     ],
     "language": "python",
     "metadata": {},
     "outputs": [
      {
       "metadata": {},
       "output_type": "pyout",
       "prompt_number": 27,
       "text": [
        "(1.6859226405632937, 1.6859226405632937)"
       ]
      }
     ],
     "prompt_number": 27
    },
    {
     "cell_type": "code",
     "collapsed": false,
     "input": [
      "np.std(df.palmitic), np.mean(df.palmitic), np.var(df.palmitic)"
     ],
     "language": "python",
     "metadata": {},
     "outputs": [
      {
       "metadata": {},
       "output_type": "pyout",
       "prompt_number": 28,
       "text": [
        "(1.6844482872943494, 12.317412587412583, 2.837366032568867)"
       ]
      }
     ],
     "prompt_number": 28
    },
    {
     "cell_type": "code",
     "collapsed": false,
     "input": [
      "np.sqrt(np.var(df.palmitic))"
     ],
     "language": "python",
     "metadata": {},
     "outputs": [
      {
       "metadata": {},
       "output_type": "pyout",
       "prompt_number": 29,
       "text": [
        "1.6844482872943494"
       ]
      }
     ],
     "prompt_number": 29
    },
    {
     "cell_type": "code",
     "collapsed": false,
     "input": [
      "df[acidlist].corr()"
     ],
     "language": "python",
     "metadata": {},
     "outputs": [
      {
       "html": [
        "<div style=\"max-height:1000px;max-width:1500px;overflow:auto;\">\n",
        "<table border=\"1\" class=\"dataframe\">\n",
        "  <thead>\n",
        "    <tr style=\"text-align: right;\">\n",
        "      <th></th>\n",
        "      <th>palmitic</th>\n",
        "      <th>palmitoleic</th>\n",
        "      <th>stearic</th>\n",
        "      <th>oleic</th>\n",
        "      <th>linoleic</th>\n",
        "      <th>linolenic</th>\n",
        "      <th>arachidic</th>\n",
        "      <th>eicosenoic</th>\n",
        "    </tr>\n",
        "  </thead>\n",
        "  <tbody>\n",
        "    <tr>\n",
        "      <th>palmitic</th>\n",
        "      <td> 1.000000</td>\n",
        "      <td> 0.835605</td>\n",
        "      <td>-0.170392</td>\n",
        "      <td>-0.837335</td>\n",
        "      <td> 0.460684</td>\n",
        "      <td> 0.319327</td>\n",
        "      <td> 0.228299</td>\n",
        "      <td> 0.501952</td>\n",
        "    </tr>\n",
        "    <tr>\n",
        "      <th>palmitoleic</th>\n",
        "      <td> 0.835605</td>\n",
        "      <td> 1.000000</td>\n",
        "      <td>-0.222185</td>\n",
        "      <td>-0.852438</td>\n",
        "      <td> 0.621627</td>\n",
        "      <td> 0.093112</td>\n",
        "      <td> 0.085481</td>\n",
        "      <td> 0.416350</td>\n",
        "    </tr>\n",
        "    <tr>\n",
        "      <th>stearic</th>\n",
        "      <td>-0.170392</td>\n",
        "      <td>-0.222185</td>\n",
        "      <td> 1.000000</td>\n",
        "      <td> 0.113599</td>\n",
        "      <td>-0.197817</td>\n",
        "      <td> 0.018917</td>\n",
        "      <td>-0.040979</td>\n",
        "      <td> 0.140377</td>\n",
        "    </tr>\n",
        "    <tr>\n",
        "      <th>oleic</th>\n",
        "      <td>-0.837335</td>\n",
        "      <td>-0.852438</td>\n",
        "      <td> 0.113599</td>\n",
        "      <td> 1.000000</td>\n",
        "      <td>-0.850318</td>\n",
        "      <td>-0.218171</td>\n",
        "      <td>-0.319962</td>\n",
        "      <td>-0.424146</td>\n",
        "    </tr>\n",
        "    <tr>\n",
        "      <th>linoleic</th>\n",
        "      <td> 0.460684</td>\n",
        "      <td> 0.621627</td>\n",
        "      <td>-0.197817</td>\n",
        "      <td>-0.850318</td>\n",
        "      <td> 1.000000</td>\n",
        "      <td>-0.057439</td>\n",
        "      <td> 0.210973</td>\n",
        "      <td> 0.089045</td>\n",
        "    </tr>\n",
        "    <tr>\n",
        "      <th>linolenic</th>\n",
        "      <td> 0.319327</td>\n",
        "      <td> 0.093112</td>\n",
        "      <td> 0.018917</td>\n",
        "      <td>-0.218171</td>\n",
        "      <td>-0.057439</td>\n",
        "      <td> 1.000000</td>\n",
        "      <td> 0.620236</td>\n",
        "      <td> 0.578319</td>\n",
        "    </tr>\n",
        "    <tr>\n",
        "      <th>arachidic</th>\n",
        "      <td> 0.228299</td>\n",
        "      <td> 0.085481</td>\n",
        "      <td>-0.040979</td>\n",
        "      <td>-0.319962</td>\n",
        "      <td> 0.210973</td>\n",
        "      <td> 0.620236</td>\n",
        "      <td> 1.000000</td>\n",
        "      <td> 0.328663</td>\n",
        "    </tr>\n",
        "    <tr>\n",
        "      <th>eicosenoic</th>\n",
        "      <td> 0.501952</td>\n",
        "      <td> 0.416350</td>\n",
        "      <td> 0.140377</td>\n",
        "      <td>-0.424146</td>\n",
        "      <td> 0.089045</td>\n",
        "      <td> 0.578319</td>\n",
        "      <td> 0.328663</td>\n",
        "      <td> 1.000000</td>\n",
        "    </tr>\n",
        "  </tbody>\n",
        "</table>\n",
        "</div>"
       ],
       "metadata": {},
       "output_type": "pyout",
       "prompt_number": 30,
       "text": [
        "             palmitic  palmitoleic   stearic     oleic  linoleic  linolenic  arachidic  eicosenoic\n",
        "palmitic     1.000000     0.835605 -0.170392 -0.837335  0.460684   0.319327   0.228299    0.501952\n",
        "palmitoleic  0.835605     1.000000 -0.222185 -0.852438  0.621627   0.093112   0.085481    0.416350\n",
        "stearic     -0.170392    -0.222185  1.000000  0.113599 -0.197817   0.018917  -0.040979    0.140377\n",
        "oleic       -0.837335    -0.852438  0.113599  1.000000 -0.850318  -0.218171  -0.319962   -0.424146\n",
        "linoleic     0.460684     0.621627 -0.197817 -0.850318  1.000000  -0.057439   0.210973    0.089045\n",
        "linolenic    0.319327     0.093112  0.018917 -0.218171 -0.057439   1.000000   0.620236    0.578319\n",
        "arachidic    0.228299     0.085481 -0.040979 -0.319962  0.210973   0.620236   1.000000    0.328663\n",
        "eicosenoic   0.501952     0.416350  0.140377 -0.424146  0.089045   0.578319   0.328663    1.000000"
       ]
      }
     ],
     "prompt_number": 30
    },
    {
     "cell_type": "code",
     "collapsed": false,
     "input": [
      "df[acidlist].cov()"
     ],
     "language": "python",
     "metadata": {},
     "outputs": [
      {
       "html": [
        "<div style=\"max-height:1000px;max-width:1500px;overflow:auto;\">\n",
        "<table border=\"1\" class=\"dataframe\">\n",
        "  <thead>\n",
        "    <tr style=\"text-align: right;\">\n",
        "      <th></th>\n",
        "      <th>palmitic</th>\n",
        "      <th>palmitoleic</th>\n",
        "      <th>stearic</th>\n",
        "      <th>oleic</th>\n",
        "      <th>linoleic</th>\n",
        "      <th>linolenic</th>\n",
        "      <th>arachidic</th>\n",
        "      <th>eicosenoic</th>\n",
        "    </tr>\n",
        "  </thead>\n",
        "  <tbody>\n",
        "    <tr>\n",
        "      <th>palmitic</th>\n",
        "      <td> 2.842335</td>\n",
        "      <td> 0.739522</td>\n",
        "      <td>-0.105556</td>\n",
        "      <td> -5.728752</td>\n",
        "      <td> 1.885769</td>\n",
        "      <td> 0.069818</td>\n",
        "      <td> 0.084793</td>\n",
        "      <td> 0.119180</td>\n",
        "    </tr>\n",
        "    <tr>\n",
        "      <th>palmitoleic</th>\n",
        "      <td> 0.739522</td>\n",
        "      <td> 0.275566</td>\n",
        "      <td>-0.042857</td>\n",
        "      <td> -1.815928</td>\n",
        "      <td> 0.792300</td>\n",
        "      <td> 0.006339</td>\n",
        "      <td> 0.009886</td>\n",
        "      <td> 0.030781</td>\n",
        "    </tr>\n",
        "    <tr>\n",
        "      <th>stearic</th>\n",
        "      <td>-0.105556</td>\n",
        "      <td>-0.042857</td>\n",
        "      <td> 0.135019</td>\n",
        "      <td>  0.169392</td>\n",
        "      <td>-0.176485</td>\n",
        "      <td> 0.000901</td>\n",
        "      <td>-0.003317</td>\n",
        "      <td> 0.007264</td>\n",
        "    </tr>\n",
        "    <tr>\n",
        "      <th>oleic</th>\n",
        "      <td>-5.728752</td>\n",
        "      <td>-1.815928</td>\n",
        "      <td> 0.169392</td>\n",
        "      <td> 16.468194</td>\n",
        "      <td>-8.378221</td>\n",
        "      <td>-0.114820</td>\n",
        "      <td>-0.286050</td>\n",
        "      <td>-0.242406</td>\n",
        "    </tr>\n",
        "    <tr>\n",
        "      <th>linoleic</th>\n",
        "      <td> 1.885769</td>\n",
        "      <td> 0.792300</td>\n",
        "      <td>-0.176485</td>\n",
        "      <td> -8.378221</td>\n",
        "      <td> 5.895146</td>\n",
        "      <td>-0.018086</td>\n",
        "      <td> 0.112848</td>\n",
        "      <td> 0.030448</td>\n",
        "    </tr>\n",
        "    <tr>\n",
        "      <th>linolenic</th>\n",
        "      <td> 0.069818</td>\n",
        "      <td> 0.006339</td>\n",
        "      <td> 0.000901</td>\n",
        "      <td> -0.114820</td>\n",
        "      <td>-0.018086</td>\n",
        "      <td> 0.016819</td>\n",
        "      <td> 0.017720</td>\n",
        "      <td> 0.010563</td>\n",
        "    </tr>\n",
        "    <tr>\n",
        "      <th>arachidic</th>\n",
        "      <td> 0.084793</td>\n",
        "      <td> 0.009886</td>\n",
        "      <td>-0.003317</td>\n",
        "      <td> -0.286050</td>\n",
        "      <td> 0.112848</td>\n",
        "      <td> 0.017720</td>\n",
        "      <td> 0.048533</td>\n",
        "      <td> 0.010197</td>\n",
        "    </tr>\n",
        "    <tr>\n",
        "      <th>eicosenoic</th>\n",
        "      <td> 0.119180</td>\n",
        "      <td> 0.030781</td>\n",
        "      <td> 0.007264</td>\n",
        "      <td> -0.242406</td>\n",
        "      <td> 0.030448</td>\n",
        "      <td> 0.010563</td>\n",
        "      <td> 0.010197</td>\n",
        "      <td> 0.019834</td>\n",
        "    </tr>\n",
        "  </tbody>\n",
        "</table>\n",
        "</div>"
       ],
       "metadata": {},
       "output_type": "pyout",
       "prompt_number": 31,
       "text": [
        "             palmitic  palmitoleic   stearic      oleic  linoleic  linolenic  arachidic  eicosenoic\n",
        "palmitic     2.842335     0.739522 -0.105556  -5.728752  1.885769   0.069818   0.084793    0.119180\n",
        "palmitoleic  0.739522     0.275566 -0.042857  -1.815928  0.792300   0.006339   0.009886    0.030781\n",
        "stearic     -0.105556    -0.042857  0.135019   0.169392 -0.176485   0.000901  -0.003317    0.007264\n",
        "oleic       -5.728752    -1.815928  0.169392  16.468194 -8.378221  -0.114820  -0.286050   -0.242406\n",
        "linoleic     1.885769     0.792300 -0.176485  -8.378221  5.895146  -0.018086   0.112848    0.030448\n",
        "linolenic    0.069818     0.006339  0.000901  -0.114820 -0.018086   0.016819   0.017720    0.010563\n",
        "arachidic    0.084793     0.009886 -0.003317  -0.286050  0.112848   0.017720   0.048533    0.010197\n",
        "eicosenoic   0.119180     0.030781  0.007264  -0.242406  0.030448   0.010563   0.010197    0.019834"
       ]
      }
     ],
     "prompt_number": 31
    },
    {
     "cell_type": "code",
     "collapsed": false,
     "input": [
      "df[acidlist].median(), df[acidlist].mean()"
     ],
     "language": "python",
     "metadata": {},
     "outputs": [
      {
       "metadata": {},
       "output_type": "pyout",
       "prompt_number": 32,
       "text": [
        "(palmitic       12.010\n",
        " palmitoleic     1.100\n",
        " stearic         2.230\n",
        " oleic          73.025\n",
        " linoleic       10.300\n",
        " linolenic       0.330\n",
        " arachidic       0.610\n",
        " eicosenoic      0.170\n",
        " dtype: float64, palmitic       12.317413\n",
        " palmitoleic     1.260944\n",
        " stearic         2.288654\n",
        " oleic          73.117483\n",
        " linoleic        9.805280\n",
        " linolenic       0.318881\n",
        " arachidic       0.580979\n",
        " eicosenoic      0.162815\n",
        " dtype: float64)"
       ]
      }
     ],
     "prompt_number": 32
    },
    {
     "cell_type": "markdown",
     "metadata": {},
     "source": [
      "###3. Quick Intro to Numpy and Matplotlib"
     ]
    },
    {
     "cell_type": "markdown",
     "metadata": {},
     "source": [
      "This is just a quick and dirty intro. Please read the excellent tutorials <a href=\"http://nbviewer.ipython.org/urls/raw.github.com/jrjohansson/scientific-python-lectures/master/Lecture-2-Numpy.ipynb\">here</a> and <a href=\"http://nbviewer.ipython.org/urls/raw.github.com/jrjohansson/scientific-python-lectures/master/Lecture-4-Matplotlib.ipynb\">here</a>."
     ]
    },
    {
     "cell_type": "markdown",
     "metadata": {},
     "source": [
      "####Lets start with numpy"
     ]
    },
    {
     "cell_type": "code",
     "collapsed": false,
     "input": [
      "v = np.array([1,2,3,4])\n",
      "v.shape, type(v)"
     ],
     "language": "python",
     "metadata": {},
     "outputs": [
      {
       "metadata": {},
       "output_type": "pyout",
       "prompt_number": 33,
       "text": [
        "((4,), numpy.ndarray)"
       ]
      }
     ],
     "prompt_number": 33
    },
    {
     "cell_type": "code",
     "collapsed": false,
     "input": [
      "v"
     ],
     "language": "python",
     "metadata": {},
     "outputs": [
      {
       "metadata": {},
       "output_type": "pyout",
       "prompt_number": 34,
       "text": [
        "array([1, 2, 3, 4])"
       ]
      }
     ],
     "prompt_number": 34
    },
    {
     "cell_type": "code",
     "collapsed": false,
     "input": [
      "v.T, v.T.shape"
     ],
     "language": "python",
     "metadata": {},
     "outputs": [
      {
       "metadata": {},
       "output_type": "pyout",
       "prompt_number": 35,
       "text": [
        "(array([1, 2, 3, 4]), (4,))"
       ]
      }
     ],
     "prompt_number": 35
    },
    {
     "cell_type": "code",
     "collapsed": false,
     "input": [
      "for j in v:\n",
      "    print j"
     ],
     "language": "python",
     "metadata": {},
     "outputs": [
      {
       "output_type": "stream",
       "stream": "stdout",
       "text": [
        "1\n",
        "2\n",
        "3\n",
        "4\n"
       ]
      }
     ],
     "prompt_number": 36
    },
    {
     "cell_type": "code",
     "collapsed": false,
     "input": [
      "M = np.array([[1, 2], [3, 4]])\n",
      "M"
     ],
     "language": "python",
     "metadata": {},
     "outputs": [
      {
       "metadata": {},
       "output_type": "pyout",
       "prompt_number": 37,
       "text": [
        "array([[1, 2],\n",
        "       [3, 4]])"
       ]
      }
     ],
     "prompt_number": 37
    },
    {
     "cell_type": "code",
     "collapsed": false,
     "input": [
      "M.T"
     ],
     "language": "python",
     "metadata": {},
     "outputs": [
      {
       "metadata": {},
       "output_type": "pyout",
       "prompt_number": 38,
       "text": [
        "array([[1, 3],\n",
        "       [2, 4]])"
       ]
      }
     ],
     "prompt_number": 38
    },
    {
     "cell_type": "code",
     "collapsed": false,
     "input": [
      "type(M), M.shape"
     ],
     "language": "python",
     "metadata": {},
     "outputs": [
      {
       "metadata": {},
       "output_type": "pyout",
       "prompt_number": 39,
       "text": [
        "(numpy.ndarray, (2, 2))"
       ]
      }
     ],
     "prompt_number": 39
    },
    {
     "cell_type": "code",
     "collapsed": false,
     "input": [
      "M32=np.array([[1,2],[3,4],[5,6]])\n",
      "M32"
     ],
     "language": "python",
     "metadata": {},
     "outputs": [
      {
       "metadata": {},
       "output_type": "pyout",
       "prompt_number": 40,
       "text": [
        "array([[1, 2],\n",
        "       [3, 4],\n",
        "       [5, 6]])"
       ]
      }
     ],
     "prompt_number": 40
    },
    {
     "cell_type": "code",
     "collapsed": false,
     "input": [
      "M32.shape"
     ],
     "language": "python",
     "metadata": {},
     "outputs": [
      {
       "metadata": {},
       "output_type": "pyout",
       "prompt_number": 41,
       "text": [
        "(3, 2)"
       ]
      }
     ],
     "prompt_number": 41
    },
    {
     "cell_type": "code",
     "collapsed": false,
     "input": [
      "M23=M32.T\n",
      "M23"
     ],
     "language": "python",
     "metadata": {},
     "outputs": [
      {
       "metadata": {},
       "output_type": "pyout",
       "prompt_number": 42,
       "text": [
        "array([[1, 3, 5],\n",
        "       [2, 4, 6]])"
       ]
      }
     ],
     "prompt_number": 42
    },
    {
     "cell_type": "code",
     "collapsed": false,
     "input": [
      "M23.shape"
     ],
     "language": "python",
     "metadata": {},
     "outputs": [
      {
       "metadata": {},
       "output_type": "pyout",
       "prompt_number": 43,
       "text": [
        "(2, 3)"
       ]
      }
     ],
     "prompt_number": 43
    },
    {
     "cell_type": "code",
     "collapsed": false,
     "input": [
      "df.palmitic.values"
     ],
     "language": "python",
     "metadata": {},
     "outputs": [
      {
       "metadata": {},
       "output_type": "pyout",
       "prompt_number": 44,
       "text": [
        "array([ 10.75,  10.88,   9.11,   9.66,  10.51,   9.11,   9.22,  11.  ,\n",
        "        10.82,  10.37,  10.51,  10.36,  10.74,   8.75,   9.52,  11.55,\n",
        "         9.43,  12.78,   9.61,   9.52,  10.74,   9.95,  10.56,  10.65,\n",
        "        10.65,  13.15,  13.21,  13.59,  13.78,  12.95,  12.75,  13.36,\n",
        "        13.09,  13.4 ,  12.99,  12.21,  12.45,  12.85,  12.48,  13.56,\n",
        "        12.6 ,  12.61,  13.04,  13.44,  13.23,  12.92,  12.54,  13.12,\n",
        "        12.13,  13.59,  12.66,  12.98,  12.72,  12.78,  11.84,  13.82,\n",
        "        11.83,  12.61,  11.98,  12.25,  13.39,  11.32,  13.81,  14.09,\n",
        "        13.06,  13.72,  13.36,  14.01,  13.9 ,  14.32,  14.12,  13.66,\n",
        "        13.83,  12.83,  12.96,  12.87,  13.51,  12.41,  12.67,  12.35,\n",
        "        12.55,  14.54,  13.47,  13.64,  14.1 ,  13.84,  14.12,  14.1 ,\n",
        "        15.09,  13.17,  12.86,  12.73,  14.63,  13.99,  14.13,  13.69,\n",
        "        14.88,  13.23,  13.11,  12.86,  13.8 ,  13.94,  13.24,  12.9 ,\n",
        "        13.61,  13.87,  13.69,  13.03,  13.46,  13.69,  13.05,  13.51,\n",
        "        12.83,  14.49,  13.1 ,  13.6 ,  13.  ,  13.68,  12.07,  13.48,\n",
        "        13.34,  13.01,  12.26,  12.01,  12.97,  12.48,  13.35,  12.19,\n",
        "        13.18,  12.64,  12.01,  12.52,  12.73,  13.51,  13.36,  14.99,\n",
        "        14.25,  13.58,  13.46,  13.92,  13.11,  13.14,  14.09,  13.42,\n",
        "        13.87,  14.13,  14.3 ,  13.36,  13.72,  13.3 ,  14.12,  13.21,\n",
        "        14.01,  14.01,  14.57,  14.51,  14.38,  14.62,  15.29,  15.1 ,\n",
        "        14.37,  13.27,  14.38,  14.47,  13.55,  13.69,  14.71,  14.56,\n",
        "        13.14,  14.08,  13.97,  14.13,  15.39,  13.04,  13.41,  15.08,\n",
        "        15.15,  12.62,  13.07,  12.94,  14.6 ,  14.76,  14.82,  13.88,\n",
        "        13.67,  12.72,  13.23,  12.06,  13.83,  15.21,  13.5 ,  14.22,\n",
        "        12.98,  14.47,  13.47,  13.39,  13.88,  15.27,  14.95,  14.87,\n",
        "        13.99,  14.89,  13.39,  14.82,  14.34,  13.47,  13.4 ,  14.53,\n",
        "        13.06,  13.49,  12.54,  11.68,  13.46,  13.9 ,  12.83,  12.14,\n",
        "        14.91,  14.79,  14.45,  14.39,  13.87,  14.26,  14.51,  14.93,\n",
        "        14.19,  13.42,  13.49,  14.4 ,  14.6 ,  12.49,  13.48,  13.41,\n",
        "        13.98,  14.54,  13.34,  14.38,  13.03,  13.23,  14.17,  13.6 ,\n",
        "        14.2 ,  14.72,  13.68,  13.67,  14.03,  14.13,  12.01,  13.59,\n",
        "        15.18,  14.34,  13.67,  14.61,  13.68,  14.19,  15.14,  13.28,\n",
        "        14.69,  12.22,  16.39,  13.45,  13.39,  11.94,  11.12,  12.22,\n",
        "        11.36,   9.26,  11.05,  11.09,  12.84,  11.2 ,   9.16,   9.05,\n",
        "        12.06,  14.57,  13.27,  13.03,  14.44,  15.05,  14.29,  14.91,\n",
        "        13.93,  14.04,  12.22,  11.53,  11.69,  13.69,   9.93,   9.8 ,\n",
        "         9.67,  11.28,  11.88,  12.57,  12.62,  12.83,  12.63,  13.69,\n",
        "        13.53,  11.87,  17.32,  16.2 ,  15.43,  14.98,  13.99,  12.93,\n",
        "        14.2 ,  17.21,  17.42,  13.91,  15.17,  12.69,  15.77,  15.9 ,\n",
        "        16.21,  17.53,  16.79,  14.19,  16.93,  16.92,  16.38,  14.97,\n",
        "        14.42,  16.8 ,  14.63,  11.29,  10.42,  11.03,  11.18,  10.52,\n",
        "        11.16,  11.08,  11.29,  10.85,  11.04,  10.98,  11.35,  11.58,\n",
        "        11.33,  10.95,  12.01,  12.13,  11.08,  10.75,  10.59,  11.76,\n",
        "        11.59,  11.32,  11.07,  10.92,  11.19,  11.06,  10.47,  11.65,\n",
        "        11.58,  10.95,  11.76,  11.03,  11.12,  10.91,  10.8 ,  10.51,\n",
        "        10.96,  11.42,  10.47,  11.14,  11.4 ,  10.75,  10.92,  10.76,\n",
        "        11.78,  10.95,  11.66,  11.54,  11.77,  11.6 ,  11.22,  11.32,\n",
        "        10.96,  11.31,  11.84,  11.35,  10.84,  10.86,  11.4 ,  11.38,\n",
        "        11.59,  10.51,  10.48,  10.61,  11.05,  11.45,  10.49,  11.05,\n",
        "        10.3 ,  10.7 ,  11.03,  10.4 ,  11.  ,  11.18,  10.65,  11.31,\n",
        "        10.8 ,  10.75,  10.4 ,  11.28,  10.6 ,  11.03,  11.1 ,  10.91,\n",
        "        10.94,  11.31,  11.75,  10.76,  11.2 ,  11.52,  11.41,  10.98,\n",
        "        11.26,  10.87,  11.15,  11.78,  11.62,  10.85,  10.85,  10.9 ,\n",
        "        10.8 ,  10.9 ,  11.05,  10.6 ,  10.5 ,  11.  ,  10.65,  10.85,\n",
        "        10.8 ,  10.85,  10.75,  10.9 ,  10.95,  10.9 ,  10.95,  10.9 ,\n",
        "        10.95,  10.95,  10.8 ,  10.9 ,  11.05,  11.1 ,  10.75,  10.75,\n",
        "        10.65,  10.7 ,  10.7 ,  11.  ,  10.75,  10.5 ,  10.9 ,  10.5 ,\n",
        "        10.75,  10.98,  11.05,  11.1 ,  10.58,  11.15,  11.05,  10.72,\n",
        "        11.1 ,  11.1 ,  10.55,  11.  ,  11.05,  10.95,  11.1 ,  10.92,\n",
        "        12.9 ,  11.7 ,  11.  ,  11.2 ,  11.6 ,  12.  ,  11.4 ,  12.2 ,\n",
        "        11.8 ,  12.1 ,  12.2 ,  11.8 ,  11.6 ,  11.3 ,  10.8 ,  10.9 ,\n",
        "        10.2 ,  10.9 ,  11.2 ,  10.8 ,  11.6 ,  11.  ,  10.5 ,  10.9 ,\n",
        "        11.2 ,  11.2 ,  11.9 ,  11.7 ,  11.2 ,  11.9 ,  14.  ,  13.5 ,\n",
        "        10.9 ,  11.5 ,  12.4 ,  12.2 ,  11.8 ,  11.7 ,  11.7 ,  11.8 ,\n",
        "        12.  ,  11.4 ,  11.6 ,  11.3 ,  11.5 ,  11.1 ,  11.5 ,  11.8 ,\n",
        "        10.2 ,   6.1 ,  11.9 ,  11.1 ,  10.2 ,  10.7 ,  10.1 ,  10.6 ,\n",
        "        10.6 ,  10.3 ,  11.2 ,  10.3 ,  10.7 ,  11.4 ,  10.9 ,   9.8 ,\n",
        "         9.8 ,   9.6 ,   9.9 ,  10.6 ,  12.4 ,  10.6 ,  10.2 ,   9.7 ,\n",
        "        11.8 ,  10.6 ,   9.9 ,  10.1 ,  10.4 ,  10.4 ,  10.2 ,  10.2 ,\n",
        "        10.1 ,   9.2 ,  10.3 ,   9.6 ,  10.3 ,  10.1 ,  10.2 ,  11.2 ,\n",
        "        10.9 ,  11.  ,  10.9 ,  11.5 ,  11.1 ,  10.1 ,  10.7 ,  12.8 ,\n",
        "        10.6 ,  10.1 ,   9.9 ,   9.6 ])"
       ]
      }
     ],
     "prompt_number": 44
    },
    {
     "cell_type": "code",
     "collapsed": false,
     "input": [
      "df[['palmitic', 'palmitoleic']].values, df[['palmitic', 'palmitoleic']].values.shape"
     ],
     "language": "python",
     "metadata": {},
     "outputs": [
      {
       "metadata": {},
       "output_type": "pyout",
       "prompt_number": 45,
       "text": [
        "(array([[ 10.75,   0.75],\n",
        "        [ 10.88,   0.73],\n",
        "        [  9.11,   0.54],\n",
        "        ..., \n",
        "        [ 10.1 ,   0.9 ],\n",
        "        [  9.9 ,   1.2 ],\n",
        "        [  9.6 ,   0.8 ]]), (572, 2))"
       ]
      }
     ],
     "prompt_number": 45
    },
    {
     "cell_type": "code",
     "collapsed": false,
     "input": [
      "np.zeros(10)"
     ],
     "language": "python",
     "metadata": {},
     "outputs": [
      {
       "metadata": {},
       "output_type": "pyout",
       "prompt_number": 46,
       "text": [
        "array([ 0.,  0.,  0.,  0.,  0.,  0.,  0.,  0.,  0.,  0.])"
       ]
      }
     ],
     "prompt_number": 46
    },
    {
     "cell_type": "code",
     "collapsed": false,
     "input": [
      "np.ones(10).reshape(5,2)"
     ],
     "language": "python",
     "metadata": {},
     "outputs": [
      {
       "metadata": {},
       "output_type": "pyout",
       "prompt_number": 47,
       "text": [
        "array([[ 1.,  1.],\n",
        "       [ 1.,  1.],\n",
        "       [ 1.,  1.],\n",
        "       [ 1.,  1.],\n",
        "       [ 1.,  1.]])"
       ]
      }
     ],
     "prompt_number": 47
    },
    {
     "cell_type": "code",
     "collapsed": false,
     "input": [
      "myrandom=np.random.rand(5,3)\n",
      "print myrandom"
     ],
     "language": "python",
     "metadata": {},
     "outputs": [
      {
       "output_type": "stream",
       "stream": "stdout",
       "text": [
        "[[ 0.32301717  0.67639359  0.77185225]\n",
        " [ 0.99875175  0.34972459  0.2494494 ]\n",
        " [ 0.8598271   0.08581773  0.71320464]\n",
        " [ 0.40119708  0.6464285   0.61229666]\n",
        " [ 0.50121514  0.8620689   0.02658351]]\n"
       ]
      }
     ],
     "prompt_number": 48
    },
    {
     "cell_type": "code",
     "collapsed": false,
     "input": [
      "myrandom[0], myrandom[-1], myrandom[0][0]"
     ],
     "language": "python",
     "metadata": {},
     "outputs": [
      {
       "metadata": {},
       "output_type": "pyout",
       "prompt_number": 49,
       "text": [
        "(array([ 0.32301717,  0.67639359,  0.77185225]),\n",
        " array([ 0.50121514,  0.8620689 ,  0.02658351]),\n",
        " 0.32301716964665139)"
       ]
      }
     ],
     "prompt_number": 49
    },
    {
     "cell_type": "code",
     "collapsed": false,
     "input": [
      "myrandom[:,0]"
     ],
     "language": "python",
     "metadata": {},
     "outputs": [
      {
       "metadata": {},
       "output_type": "pyout",
       "prompt_number": 50,
       "text": [
        "array([ 0.32301717,  0.99875175,  0.8598271 ,  0.40119708,  0.50121514])"
       ]
      }
     ],
     "prompt_number": 50
    },
    {
     "cell_type": "code",
     "collapsed": false,
     "input": [
      "myrandom[0,:]"
     ],
     "language": "python",
     "metadata": {},
     "outputs": [
      {
       "metadata": {},
       "output_type": "pyout",
       "prompt_number": 51,
       "text": [
        "array([ 0.32301717,  0.67639359,  0.77185225])"
       ]
      }
     ],
     "prompt_number": 51
    },
    {
     "cell_type": "markdown",
     "metadata": {},
     "source": [
      "####Moving on to matplotlib"
     ]
    },
    {
     "cell_type": "code",
     "collapsed": false,
     "input": [
      "current_palette = sns.color_palette()\n",
      "print current_palette\n",
      "sns.palplot(current_palette)"
     ],
     "language": "python",
     "metadata": {},
     "outputs": [
      {
       "output_type": "stream",
       "stream": "stdout",
       "text": [
        "[(0.2980392156862745, 0.4470588235294118, 0.6901960784313725), (0.3333333333333333, 0.6588235294117647, 0.40784313725490196), (0.7686274509803922, 0.3058823529411765, 0.3215686274509804), (0.5058823529411764, 0.4470588235294118, 0.6980392156862745), (0.8, 0.7254901960784313, 0.4549019607843137), (0.39215686274509803, 0.7098039215686275, 0.803921568627451)]\n"
       ]
      },
      {
       "metadata": {},
       "output_type": "display_data",
       "png": "[encoded data removed]",
       "text": [
        "<matplotlib.figure.Figure at 0x75ddd70>"
       ]
      }
     ],
     "prompt_number": 52
    },
    {
     "cell_type": "code",
     "collapsed": false,
     "input": [
      "fig=plt.figure()\n",
      "plt.scatter(df.palmitic, df.linolenic, c=current_palette[0])\n",
      "axis = fig.gca() #get current axis\n",
      "axis.set_title('linolenic vs palmitic')\n",
      "axis.set_xlabel('palmitic')\n",
      "axis.set_ylabel('linolenic')\n",
      "#ax can be got with fig.gca()"
     ],
     "language": "python",
     "metadata": {},
     "outputs": [
      {
       "metadata": {},
       "output_type": "pyout",
       "prompt_number": 53,
       "text": [
        "<matplotlib.text.Text at 0x77f1a90>"
       ]
      },
      {
       "metadata": {},
       "output_type": "display_data",
       "png": "[encoded data removed]",
       "text": [
        "<matplotlib.figure.Figure at 0x76283f0>"
       ]
      }
     ],
     "prompt_number": 53
    },
    {
     "cell_type": "code",
     "collapsed": false,
     "input": [
      "plt.hist(df.palmitic)\n",
      "plt.xlabel(\"Palmitic\")\n",
      "plt.title(\"Histogram of Palmitic Acid content in Olive Oils Sample\");"
     ],
     "language": "python",
     "metadata": {},
     "outputs": [
      {
       "metadata": {},
       "output_type": "display_data",
       "png": "[encoded data removed]",
       "text": [
        "<matplotlib.figure.Figure at 0x75dd7d0>"
       ]
      }
     ],
     "prompt_number": 54
    },
    {
     "cell_type": "markdown",
     "metadata": {},
     "source": [
      "There are many many more kinds of plots."
     ]
    },
    {
     "cell_type": "markdown",
     "metadata": {},
     "source": [
      "A more object oriented approach sees us using the `subplots` function to set both figure and axis."
     ]
    },
    {
     "cell_type": "code",
     "collapsed": false,
     "input": [
      "fig, axes=plt.subplots(figsize=(10,10), nrows=2, ncols=2)\n",
      "axes[0][0].plot(df.palmitic, df.linolenic)\n",
      "axes[0][1].plot(df.palmitic, df.linolenic, '.')\n",
      "axes[1][0].scatter(df.palmitic, df.linolenic, c=current_palette[1], alpha=0.5)\n",
      "axes[1][1].hist(df.palmitic)\n",
      "fig.tight_layout()"
     ],
     "language": "python",
     "metadata": {},
     "outputs": [
      {
       "metadata": {},
       "output_type": "display_data",
       "png": "[encoded data removed]",
       "text": [
        "<matplotlib.figure.Figure at 0x7614430>"
       ]
      }
     ],
     "prompt_number": 55
    },
    {
     "cell_type": "markdown",
     "metadata": {},
     "source": [
      "Lets use the above method to make scatterplots of the acids in the list `yacids` against the acids in the list `xacids`. As the names suggest, plot the acids in `yacids` along the y axis and the acids in `xacids` along the x axis. Label the axes with the respective acid name. Set it up as a grid with 3 rows and 2 columns."
     ]
    },
    {
     "cell_type": "code",
     "collapsed": false,
     "input": [
      "new_palette = sns.color_palette(\"Set3\")\n",
      "sns.palplot(new_palette)"
     ],
     "language": "python",
     "metadata": {},
     "outputs": [
      {
       "metadata": {},
       "output_type": "display_data",
       "png": "[encoded data removed]",
       "text": [
        "<matplotlib.figure.Figure at 0x75ebd50>"
       ]
      }
     ],
     "prompt_number": 56
    },
    {
     "cell_type": "code",
     "collapsed": false,
     "input": [
      "xacids=['oleic','linolenic','eicosenoic']\n",
      "yacids=['stearic','arachidic']\n",
      "\n",
      "#your code here\n",
      "fig, axes=plt.subplots(figsize=(10,10), nrows=len(xacids), ncols=len(yacids))\n",
      "k=0\n",
      "for i, xacid in enumerate(xacids):\n",
      "    for j, yacid in enumerate(yacids):\n",
      "        axes[i][j].scatter(df[xacid],df[yacid], c=new_palette[k])\n",
      "        axes[i][j].set_xlabel(xacid)\n",
      "        axes[i][j].set_ylabel(yacid)\n",
      "        k = k+1\n",
      "fig.tight_layout()"
     ],
     "language": "python",
     "metadata": {},
     "outputs": [
      {
       "metadata": {},
       "output_type": "display_data",
       "png": "[encoded data removed]",
       "text": [
        "<matplotlib.figure.Figure at 0x7c022b0>"
       ]
      }
     ],
     "prompt_number": 57
    },
    {
     "cell_type": "markdown",
     "metadata": {},
     "source": [
      "###4. Numpy, and some stats\n",
      "\n",
      "(From Shalizi). In the real world we only always deal with samples from populations. We assume that whatever it is that gave us our data is well-modeled by some random process. In effect, each time we make a measurement, we ask the process to spit out numbers according to some distribution; we sample the distribution. If we think of sampling as closing our eyes and picking a data point out of a box, we call the set of all data-points in the box the population. (That last isn\u2019t as silly as it sounds; think of opinion polls.) In either case, we assume that the true distribution is the unknown one which lies behind our data. If we want to learn about that distribution from the data, then we need to know something about the kind of data it is likely to give us. That is to say, we need to know the sampling distribution, the distribution of data values given that the true distribution takes a certain functional form, with certain parameter values, and we sample from it in a specified way.\n",
      "\n",
      "In the next two sections, $X_1, X_2 . . .X_n . . .$ are independent, identically-distributed\n",
      "(IID) random variables. X has the finite mean \u03bc. The average of the first n of\n",
      "them is\n",
      "\n",
      "$$ S_n \\equiv \\frac{1}{n} \\sum_{i=1}^{n} X_i $$"
     ]
    },
    {
     "cell_type": "markdown",
     "metadata": {},
     "source": [
      "#### The Law of Large Numbers\n",
      "(From Shalizi)\n",
      "The means of IID sequences converge to the mean of the variable (if E|X| < $\\infty$):\n",
      "\n",
      "$$S_n \\rightarrow \\mu$$ \n",
      "\n",
      "as \n",
      "\n",
      "$$n \\rightarrow \\infty$$\n",
      "\n",
      "\n",
      "That is, the sample mean approaches the population mean.\n",
      "\n",
      "The obvious application of the law of large numbers is to take our favorite event A from any probability distribution we like, with random variable Y , and then apply an indicator function I(A) to Y , a function which gives 1 when its input is in in A and 0 otherwise. Now we have a Bernoulli random variable with parameter p = P(A). So if we take a long sequence of random trials, then with probability one the frequency of successes will converge to the true probability .\n",
      "\n",
      "If you simulate many samples of a population, then the laws of large numbers\n",
      "tell us the the empirical frequencies of your simulations will approach the actual\n",
      "sampling distribution. This is called \u201cMonte Carlo simulation\u201d, or even \u201cthe\n",
      "Monte Carlo method\u201d. (Several other things are also called Monte Carlo, but\n",
      "they\u2019re actually related.) By the same procedure, you can get the sampling\n",
      "distribution for an arbitrary statistic of your data.\n",
      "\n",
      "#### Central Limit Theorem\n",
      "\n",
      "(Again, Shalizi).\n",
      "Assume that $X$ has a finite population variance $\\sigma^2$. Then as $n \\rightarrow \\infty$, the $S_n$ converge to a Gaussian random variable with mean $\\mu$ and variance $\\sigma^2$.\n",
      "\n",
      "More prosaicly: the CLT tells us that, if only we can arrange to be dealing\n",
      "with IID sequences, in the long run we know what the distribution must be.\n",
      "Even better, it\u2019s always the same distribution; still better, it\u2019s one which is\n",
      "remarkably easy to deal with, and for which we have a huge amount of theory.\n",
      "Manipulate your problem so that the CLT applies, and, at least asymptotically,\n",
      "you\u2019ve got it made.\n",
      "\n",
      "It\u2019s generally true that, whatever measure of variability we pick, its value in a sample will tend to be smaller than its population value. (We have already mentioned that this is true of the variance.) It\u2019s not hard to see why this should be so; consider, as an extreme case, the limit where our sample consists of a single piece of data, and so there is no variation in the sample. More generally, picking out a subset from the population, which is what sampling does, is unlikely to give an exactly representative sample, and naturally the higher probability events will be the ones which tend to show up in the sample.\n",
      "\n",
      "#### Sampling and De-Moivre's formula: \n",
      "\n",
      "The standard deviation of the sampling distribution of the mean is given as:\n",
      "\n",
      "$$\\sigma_{sample} = \\frac{\\sigma}{\\sqrt{N_{sample}}}$$"
     ]
    },
    {
     "cell_type": "code",
     "collapsed": false,
     "input": [
      "def throw_a_coin(size):\n",
      "    return np.random.randint(2, size=size)\n",
      "\n",
      "def make_throws(numsamples, numthrows):\n",
      "    start=np.zeros((numsamples,numthrows), dtype=int)\n",
      "    for i in range(numsamples):\n",
      "        start[i,:]=throw_a_coin(numthrows)\n",
      "    return np.mean(start, axis=1)\n",
      "\n",
      "def mean_std(means):\n",
      "    return np.mean(means), np.std(means)\n",
      "\n",
      "make_throws(20,10)"
     ],
     "language": "python",
     "metadata": {},
     "outputs": [
      {
       "metadata": {},
       "output_type": "pyout",
       "prompt_number": 58,
       "text": [
        "array([ 0.4,  0.3,  0.4,  0.2,  0.4,  0.4,  0.6,  0.5,  0.7,  0.6,  0.5,\n",
        "        0.4,  0.8,  0.3,  0.4,  0.5,  0.4,  0.1,  0.2,  0.3])"
       ]
      }
     ],
     "prompt_number": 58
    },
    {
     "cell_type": "markdown",
     "metadata": {},
     "source": [
      ">as a function of the size of the samples"
     ]
    },
    {
     "cell_type": "code",
     "collapsed": false,
     "input": [
      "sampsize=range(1000)\n",
      "mss = [mean_std(make_throws(100,i)) for i in sampsize]\n",
      "plt.plot(sampsize, [e[1] for e in mss])"
     ],
     "language": "python",
     "metadata": {},
     "outputs": [
      {
       "output_type": "stream",
       "stream": "stderr",
       "text": [
        "C:\\Users\\vkaynig\\AppData\\Local\\Enthought\\Canopy32\\User\\lib\\site-packages\\numpy\\core\\_methods.py:55: RuntimeWarning: Mean of empty slice.\n",
        "  warnings.warn(\"Mean of empty slice.\", RuntimeWarning)\n"
       ]
      },
      {
       "metadata": {},
       "output_type": "pyout",
       "prompt_number": 59,
       "text": [
        "[<matplotlib.lines.Line2D at 0xb0fcb90>]"
       ]
      },
      {
       "metadata": {},
       "output_type": "display_data",
       "png": "[encoded data removed]",
       "text": [
        "<matplotlib.figure.Figure at 0xa9cd350>"
       ]
      }
     ],
     "prompt_number": 59
    },
    {
     "cell_type": "code",
     "collapsed": false,
     "input": [
      "plt.plot(sampsize, [e[0] for e in mss])"
     ],
     "language": "python",
     "metadata": {},
     "outputs": [
      {
       "metadata": {},
       "output_type": "pyout",
       "prompt_number": 60,
       "text": [
        "[<matplotlib.lines.Line2D at 0x7c02cf0>]"
       ]
      },
      {
       "metadata": {},
       "output_type": "display_data",
       "png": "[encoded data removed]",
       "text": [
        "<matplotlib.figure.Figure at 0x7622270>"
       ]
      }
     ],
     "prompt_number": 60
    },
    {
     "cell_type": "markdown",
     "metadata": {},
     "source": [
      ">As a function of the number of samples"
     ]
    },
    {
     "cell_type": "code",
     "collapsed": false,
     "input": [
      "numsamps=range(1000)\n",
      "mss2=[mean_std(make_throws(i,100)) for i in numsamps]\n",
      "plt.plot(numsamps, [e[1] for e in mss2])"
     ],
     "language": "python",
     "metadata": {},
     "outputs": [
      {
       "output_type": "stream",
       "stream": "stderr",
       "text": [
        "C:\\Users\\vkaynig\\AppData\\Local\\Enthought\\Canopy32\\User\\lib\\site-packages\\numpy\\core\\_methods.py:79: RuntimeWarning: Degrees of freedom <= 0 for slice\n",
        "  warnings.warn(\"Degrees of freedom <= 0 for slice\", RuntimeWarning)\n"
       ]
      },
      {
       "metadata": {},
       "output_type": "pyout",
       "prompt_number": 61,
       "text": [
        "[<matplotlib.lines.Line2D at 0x7b90210>]"
       ]
      },
      {
       "metadata": {},
       "output_type": "display_data",
       "png": "[encoded data removed]",
       "text": [
        "<matplotlib.figure.Figure at 0xabdc4d0>"
       ]
      }
     ],
     "prompt_number": 61
    },
    {
     "cell_type": "code",
     "collapsed": false,
     "input": [
      "plt.plot(numsamps, [e[0] for e in mss2])"
     ],
     "language": "python",
     "metadata": {},
     "outputs": [
      {
       "metadata": {},
       "output_type": "pyout",
       "prompt_number": 62,
       "text": [
        "[<matplotlib.lines.Line2D at 0x7b81850>]"
       ]
      },
      {
       "metadata": {},
       "output_type": "display_data",
       "png": "[encoded data removed]",
       "text": [
        "<matplotlib.figure.Figure at 0xac8be30>"
       ]
      }
     ],
     "prompt_number": 62
    },
    {
     "cell_type": "markdown",
     "metadata": {},
     "source": [
      "###5. Pandas Data Munging, indexing, plotting"
     ]
    },
    {
     "cell_type": "code",
     "collapsed": false,
     "input": [],
     "language": "python",
     "metadata": {},
     "outputs": [],
     "prompt_number": 62
    },
    {
     "cell_type": "markdown",
     "metadata": {},
     "source": [
      "The first concept we deal with here is pandas `groupby`. The idea is to group a dataframe by the values of a particular factor variable. The documentation can be found <a href=\"http://pandas.pydata.org/pandas-docs/dev/groupby.html\">here</a>."
     ]
    },
    {
     "cell_type": "code",
     "collapsed": false,
     "input": [
      "region_groupby = df.groupby('region')\n",
      "print type(region_groupby)\n",
      "region_groupby.head()"
     ],
     "language": "python",
     "metadata": {},
     "outputs": [
      {
       "output_type": "stream",
       "stream": "stdout",
       "text": [
        "<class 'pandas.core.groupby.DataFrameGroupBy'>\n"
       ]
      },
      {
       "html": [
        "<div style=\"max-height:1000px;max-width:1500px;overflow:auto;\">\n",
        "<table border=\"1\" class=\"dataframe\">\n",
        "  <thead>\n",
        "    <tr style=\"text-align: right;\">\n",
        "      <th></th>\n",
        "      <th>areastring</th>\n",
        "      <th>region</th>\n",
        "      <th>area</th>\n",
        "      <th>palmitic</th>\n",
        "      <th>palmitoleic</th>\n",
        "      <th>stearic</th>\n",
        "      <th>oleic</th>\n",
        "      <th>linoleic</th>\n",
        "      <th>linolenic</th>\n",
        "      <th>arachidic</th>\n",
        "      <th>eicosenoic</th>\n",
        "    </tr>\n",
        "  </thead>\n",
        "  <tbody>\n",
        "    <tr>\n",
        "      <th>0  </th>\n",
        "      <td>    North-Apulia</td>\n",
        "      <td> 1</td>\n",
        "      <td> 1</td>\n",
        "      <td> 10.75</td>\n",
        "      <td> 0.75</td>\n",
        "      <td> 2.26</td>\n",
        "      <td> 78.23</td>\n",
        "      <td>  6.72</td>\n",
        "      <td> 0.36</td>\n",
        "      <td> 0.60</td>\n",
        "      <td> 0.29</td>\n",
        "    </tr>\n",
        "    <tr>\n",
        "      <th>1  </th>\n",
        "      <td>    North-Apulia</td>\n",
        "      <td> 1</td>\n",
        "      <td> 1</td>\n",
        "      <td> 10.88</td>\n",
        "      <td> 0.73</td>\n",
        "      <td> 2.24</td>\n",
        "      <td> 77.09</td>\n",
        "      <td>  7.81</td>\n",
        "      <td> 0.31</td>\n",
        "      <td> 0.61</td>\n",
        "      <td> 0.29</td>\n",
        "    </tr>\n",
        "    <tr>\n",
        "      <th>2  </th>\n",
        "      <td>    North-Apulia</td>\n",
        "      <td> 1</td>\n",
        "      <td> 1</td>\n",
        "      <td>  9.11</td>\n",
        "      <td> 0.54</td>\n",
        "      <td> 2.46</td>\n",
        "      <td> 81.13</td>\n",
        "      <td>  5.49</td>\n",
        "      <td> 0.31</td>\n",
        "      <td> 0.63</td>\n",
        "      <td> 0.29</td>\n",
        "    </tr>\n",
        "    <tr>\n",
        "      <th>3  </th>\n",
        "      <td>    North-Apulia</td>\n",
        "      <td> 1</td>\n",
        "      <td> 1</td>\n",
        "      <td>  9.66</td>\n",
        "      <td> 0.57</td>\n",
        "      <td> 2.40</td>\n",
        "      <td> 79.52</td>\n",
        "      <td>  6.19</td>\n",
        "      <td> 0.50</td>\n",
        "      <td> 0.78</td>\n",
        "      <td> 0.35</td>\n",
        "    </tr>\n",
        "    <tr>\n",
        "      <th>4  </th>\n",
        "      <td>    North-Apulia</td>\n",
        "      <td> 1</td>\n",
        "      <td> 1</td>\n",
        "      <td> 10.51</td>\n",
        "      <td> 0.67</td>\n",
        "      <td> 2.59</td>\n",
        "      <td> 77.71</td>\n",
        "      <td>  6.72</td>\n",
        "      <td> 0.50</td>\n",
        "      <td> 0.80</td>\n",
        "      <td> 0.46</td>\n",
        "    </tr>\n",
        "    <tr>\n",
        "      <th>323</th>\n",
        "      <td> Inland-Sardinia</td>\n",
        "      <td> 2</td>\n",
        "      <td> 5</td>\n",
        "      <td> 11.29</td>\n",
        "      <td> 1.20</td>\n",
        "      <td> 2.22</td>\n",
        "      <td> 72.72</td>\n",
        "      <td> 11.12</td>\n",
        "      <td> 0.43</td>\n",
        "      <td> 0.98</td>\n",
        "      <td> 0.02</td>\n",
        "    </tr>\n",
        "    <tr>\n",
        "      <th>324</th>\n",
        "      <td> Inland-Sardinia</td>\n",
        "      <td> 2</td>\n",
        "      <td> 5</td>\n",
        "      <td> 10.42</td>\n",
        "      <td> 1.35</td>\n",
        "      <td> 2.10</td>\n",
        "      <td> 73.76</td>\n",
        "      <td> 11.16</td>\n",
        "      <td> 0.35</td>\n",
        "      <td> 0.90</td>\n",
        "      <td> 0.03</td>\n",
        "    </tr>\n",
        "    <tr>\n",
        "      <th>325</th>\n",
        "      <td> Inland-Sardinia</td>\n",
        "      <td> 2</td>\n",
        "      <td> 5</td>\n",
        "      <td> 11.03</td>\n",
        "      <td> 0.96</td>\n",
        "      <td> 2.10</td>\n",
        "      <td> 73.80</td>\n",
        "      <td> 10.85</td>\n",
        "      <td> 0.32</td>\n",
        "      <td> 0.94</td>\n",
        "      <td> 0.03</td>\n",
        "    </tr>\n",
        "    <tr>\n",
        "      <th>326</th>\n",
        "      <td> Inland-Sardinia</td>\n",
        "      <td> 2</td>\n",
        "      <td> 5</td>\n",
        "      <td> 11.18</td>\n",
        "      <td> 0.97</td>\n",
        "      <td> 2.21</td>\n",
        "      <td> 72.79</td>\n",
        "      <td> 11.54</td>\n",
        "      <td> 0.35</td>\n",
        "      <td> 0.94</td>\n",
        "      <td> 0.02</td>\n",
        "    </tr>\n",
        "    <tr>\n",
        "      <th>327</th>\n",
        "      <td> Inland-Sardinia</td>\n",
        "      <td> 2</td>\n",
        "      <td> 5</td>\n",
        "      <td> 10.52</td>\n",
        "      <td> 0.95</td>\n",
        "      <td> 2.15</td>\n",
        "      <td> 73.88</td>\n",
        "      <td> 11.26</td>\n",
        "      <td> 0.31</td>\n",
        "      <td> 0.92</td>\n",
        "      <td> 0.01</td>\n",
        "    </tr>\n",
        "    <tr>\n",
        "      <th>421</th>\n",
        "      <td>          Umbria</td>\n",
        "      <td> 3</td>\n",
        "      <td> 9</td>\n",
        "      <td> 10.85</td>\n",
        "      <td> 0.70</td>\n",
        "      <td> 1.80</td>\n",
        "      <td> 79.55</td>\n",
        "      <td>  6.05</td>\n",
        "      <td> 0.20</td>\n",
        "      <td> 0.50</td>\n",
        "      <td> 0.01</td>\n",
        "    </tr>\n",
        "    <tr>\n",
        "      <th>422</th>\n",
        "      <td>          Umbria</td>\n",
        "      <td> 3</td>\n",
        "      <td> 9</td>\n",
        "      <td> 10.85</td>\n",
        "      <td> 0.70</td>\n",
        "      <td> 1.85</td>\n",
        "      <td> 79.55</td>\n",
        "      <td>  6.00</td>\n",
        "      <td> 0.25</td>\n",
        "      <td> 0.55</td>\n",
        "      <td> 0.01</td>\n",
        "    </tr>\n",
        "    <tr>\n",
        "      <th>423</th>\n",
        "      <td>          Umbria</td>\n",
        "      <td> 3</td>\n",
        "      <td> 9</td>\n",
        "      <td> 10.90</td>\n",
        "      <td> 0.60</td>\n",
        "      <td> 1.90</td>\n",
        "      <td> 79.50</td>\n",
        "      <td>  6.00</td>\n",
        "      <td> 0.28</td>\n",
        "      <td> 0.47</td>\n",
        "      <td> 0.02</td>\n",
        "    </tr>\n",
        "    <tr>\n",
        "      <th>424</th>\n",
        "      <td>          Umbria</td>\n",
        "      <td> 3</td>\n",
        "      <td> 9</td>\n",
        "      <td> 10.80</td>\n",
        "      <td> 0.65</td>\n",
        "      <td> 1.89</td>\n",
        "      <td> 79.60</td>\n",
        "      <td>  6.02</td>\n",
        "      <td> 0.35</td>\n",
        "      <td> 0.20</td>\n",
        "      <td> 0.01</td>\n",
        "    </tr>\n",
        "    <tr>\n",
        "      <th>425</th>\n",
        "      <td>          Umbria</td>\n",
        "      <td> 3</td>\n",
        "      <td> 9</td>\n",
        "      <td> 10.90</td>\n",
        "      <td> 0.60</td>\n",
        "      <td> 1.95</td>\n",
        "      <td> 79.55</td>\n",
        "      <td>  6.00</td>\n",
        "      <td> 0.28</td>\n",
        "      <td> 0.42</td>\n",
        "      <td> 0.02</td>\n",
        "    </tr>\n",
        "  </tbody>\n",
        "</table>\n",
        "</div>"
       ],
       "metadata": {},
       "output_type": "pyout",
       "prompt_number": 63,
       "text": [
        "          areastring  region  area  palmitic  palmitoleic  stearic  oleic  linoleic  linolenic  arachidic  eicosenoic\n",
        "0       North-Apulia       1     1     10.75         0.75     2.26  78.23      6.72       0.36       0.60        0.29\n",
        "1       North-Apulia       1     1     10.88         0.73     2.24  77.09      7.81       0.31       0.61        0.29\n",
        "2       North-Apulia       1     1      9.11         0.54     2.46  81.13      5.49       0.31       0.63        0.29\n",
        "3       North-Apulia       1     1      9.66         0.57     2.40  79.52      6.19       0.50       0.78        0.35\n",
        "4       North-Apulia       1     1     10.51         0.67     2.59  77.71      6.72       0.50       0.80        0.46\n",
        "323  Inland-Sardinia       2     5     11.29         1.20     2.22  72.72     11.12       0.43       0.98        0.02\n",
        "324  Inland-Sardinia       2     5     10.42         1.35     2.10  73.76     11.16       0.35       0.90        0.03\n",
        "325  Inland-Sardinia       2     5     11.03         0.96     2.10  73.80     10.85       0.32       0.94        0.03\n",
        "326  Inland-Sardinia       2     5     11.18         0.97     2.21  72.79     11.54       0.35       0.94        0.02\n",
        "327  Inland-Sardinia       2     5     10.52         0.95     2.15  73.88     11.26       0.31       0.92        0.01\n",
        "421           Umbria       3     9     10.85         0.70     1.80  79.55      6.05       0.20       0.50        0.01\n",
        "422           Umbria       3     9     10.85         0.70     1.85  79.55      6.00       0.25       0.55        0.01\n",
        "423           Umbria       3     9     10.90         0.60     1.90  79.50      6.00       0.28       0.47        0.02\n",
        "424           Umbria       3     9     10.80         0.65     1.89  79.60      6.02       0.35       0.20        0.01\n",
        "425           Umbria       3     9     10.90         0.60     1.95  79.55      6.00       0.28       0.42        0.02"
       ]
      }
     ],
     "prompt_number": 63
    },
    {
     "cell_type": "markdown",
     "metadata": {},
     "source": [
      "The function `groupby` gives you a dictionary-like object, with the keys being the values of the factor, and the values being the corresponding subsets of the dataframe."
     ]
    },
    {
     "cell_type": "code",
     "collapsed": false,
     "input": [
      "for key, value in region_groupby:\n",
      "    print \"( key, type(value) ) = (\", key, \",\", type(value), \")\"\n",
      "    v=value\n",
      "\n",
      "v.head()"
     ],
     "language": "python",
     "metadata": {},
     "outputs": [
      {
       "output_type": "stream",
       "stream": "stdout",
       "text": [
        "( key, type(value) ) = ( 1 , <class 'pandas.core.frame.DataFrame'> )\n",
        "( key, type(value) ) = ( 2 , <class 'pandas.core.frame.DataFrame'> )\n",
        "( key, type(value) ) = ( 3 , <class 'pandas.core.frame.DataFrame'> )\n"
       ]
      },
      {
       "html": [
        "<div style=\"max-height:1000px;max-width:1500px;overflow:auto;\">\n",
        "<table border=\"1\" class=\"dataframe\">\n",
        "  <thead>\n",
        "    <tr style=\"text-align: right;\">\n",
        "      <th></th>\n",
        "      <th>areastring</th>\n",
        "      <th>region</th>\n",
        "      <th>area</th>\n",
        "      <th>palmitic</th>\n",
        "      <th>palmitoleic</th>\n",
        "      <th>stearic</th>\n",
        "      <th>oleic</th>\n",
        "      <th>linoleic</th>\n",
        "      <th>linolenic</th>\n",
        "      <th>arachidic</th>\n",
        "      <th>eicosenoic</th>\n",
        "    </tr>\n",
        "  </thead>\n",
        "  <tbody>\n",
        "    <tr>\n",
        "      <th>421</th>\n",
        "      <td> Umbria</td>\n",
        "      <td> 3</td>\n",
        "      <td> 9</td>\n",
        "      <td> 10.85</td>\n",
        "      <td> 0.70</td>\n",
        "      <td> 1.80</td>\n",
        "      <td> 79.55</td>\n",
        "      <td> 6.05</td>\n",
        "      <td> 0.20</td>\n",
        "      <td> 0.50</td>\n",
        "      <td> 0.01</td>\n",
        "    </tr>\n",
        "    <tr>\n",
        "      <th>422</th>\n",
        "      <td> Umbria</td>\n",
        "      <td> 3</td>\n",
        "      <td> 9</td>\n",
        "      <td> 10.85</td>\n",
        "      <td> 0.70</td>\n",
        "      <td> 1.85</td>\n",
        "      <td> 79.55</td>\n",
        "      <td> 6.00</td>\n",
        "      <td> 0.25</td>\n",
        "      <td> 0.55</td>\n",
        "      <td> 0.01</td>\n",
        "    </tr>\n",
        "    <tr>\n",
        "      <th>423</th>\n",
        "      <td> Umbria</td>\n",
        "      <td> 3</td>\n",
        "      <td> 9</td>\n",
        "      <td> 10.90</td>\n",
        "      <td> 0.60</td>\n",
        "      <td> 1.90</td>\n",
        "      <td> 79.50</td>\n",
        "      <td> 6.00</td>\n",
        "      <td> 0.28</td>\n",
        "      <td> 0.47</td>\n",
        "      <td> 0.02</td>\n",
        "    </tr>\n",
        "    <tr>\n",
        "      <th>424</th>\n",
        "      <td> Umbria</td>\n",
        "      <td> 3</td>\n",
        "      <td> 9</td>\n",
        "      <td> 10.80</td>\n",
        "      <td> 0.65</td>\n",
        "      <td> 1.89</td>\n",
        "      <td> 79.60</td>\n",
        "      <td> 6.02</td>\n",
        "      <td> 0.35</td>\n",
        "      <td> 0.20</td>\n",
        "      <td> 0.01</td>\n",
        "    </tr>\n",
        "    <tr>\n",
        "      <th>425</th>\n",
        "      <td> Umbria</td>\n",
        "      <td> 3</td>\n",
        "      <td> 9</td>\n",
        "      <td> 10.90</td>\n",
        "      <td> 0.60</td>\n",
        "      <td> 1.95</td>\n",
        "      <td> 79.55</td>\n",
        "      <td> 6.00</td>\n",
        "      <td> 0.28</td>\n",
        "      <td> 0.42</td>\n",
        "      <td> 0.02</td>\n",
        "    </tr>\n",
        "  </tbody>\n",
        "</table>\n",
        "</div>"
       ],
       "metadata": {},
       "output_type": "pyout",
       "prompt_number": 64,
       "text": [
        "    areastring  region  area  palmitic  palmitoleic  stearic  oleic  linoleic  linolenic  arachidic  eicosenoic\n",
        "421     Umbria       3     9     10.85         0.70     1.80  79.55      6.05       0.20       0.50        0.01\n",
        "422     Umbria       3     9     10.85         0.70     1.85  79.55      6.00       0.25       0.55        0.01\n",
        "423     Umbria       3     9     10.90         0.60     1.90  79.50      6.00       0.28       0.47        0.02\n",
        "424     Umbria       3     9     10.80         0.65     1.89  79.60      6.02       0.35       0.20        0.01\n",
        "425     Umbria       3     9     10.90         0.60     1.95  79.55      6.00       0.28       0.42        0.02"
       ]
      }
     ],
     "prompt_number": 64
    },
    {
     "cell_type": "markdown",
     "metadata": {},
     "source": [
      "The `groupby` function also acts like an object that can be **mapped**. After the mapping is complete, the rows are put together (**reduced**) into a larger dataframe. For example, using the `describe` function. The documentation of the `describe` function can be found <a href=\"http://pandas.pydata.org/pandas-docs/dev/generated/pandas.DataFrame.describe.html\">here</a>."
     ]
    },
    {
     "cell_type": "code",
     "collapsed": false,
     "input": [
      "dfrd=region_groupby.describe()\n",
      "print type(dfrd)\n",
      "dfrd.head(20)"
     ],
     "language": "python",
     "metadata": {},
     "outputs": [
      {
       "output_type": "stream",
       "stream": "stdout",
       "text": [
        "<class 'pandas.core.frame.DataFrame'>\n"
       ]
      },
      {
       "html": [
        "<div style=\"max-height:1000px;max-width:1500px;overflow:auto;\">\n",
        "<table border=\"1\" class=\"dataframe\">\n",
        "  <thead>\n",
        "    <tr style=\"text-align: right;\">\n",
        "      <th></th>\n",
        "      <th></th>\n",
        "      <th>region</th>\n",
        "      <th>area</th>\n",
        "      <th>palmitic</th>\n",
        "      <th>palmitoleic</th>\n",
        "      <th>stearic</th>\n",
        "      <th>oleic</th>\n",
        "      <th>linoleic</th>\n",
        "      <th>linolenic</th>\n",
        "      <th>arachidic</th>\n",
        "      <th>eicosenoic</th>\n",
        "    </tr>\n",
        "    <tr>\n",
        "      <th>region</th>\n",
        "      <th></th>\n",
        "      <th></th>\n",
        "      <th></th>\n",
        "      <th></th>\n",
        "      <th></th>\n",
        "      <th></th>\n",
        "      <th></th>\n",
        "      <th></th>\n",
        "      <th></th>\n",
        "      <th></th>\n",
        "      <th></th>\n",
        "    </tr>\n",
        "  </thead>\n",
        "  <tbody>\n",
        "    <tr>\n",
        "      <th rowspan=\"8\" valign=\"top\">1</th>\n",
        "      <th>count</th>\n",
        "      <td> 323</td>\n",
        "      <td> 323.000000</td>\n",
        "      <td> 323.000000</td>\n",
        "      <td> 323.000000</td>\n",
        "      <td> 323.000000</td>\n",
        "      <td> 323.000000</td>\n",
        "      <td> 323.000000</td>\n",
        "      <td> 323.000000</td>\n",
        "      <td> 323.000000</td>\n",
        "      <td> 323.000000</td>\n",
        "    </tr>\n",
        "    <tr>\n",
        "      <th>mean</th>\n",
        "      <td>   1</td>\n",
        "      <td>   2.783282</td>\n",
        "      <td>  13.322879</td>\n",
        "      <td>   1.548019</td>\n",
        "      <td>   2.287740</td>\n",
        "      <td>  71.000093</td>\n",
        "      <td>  10.334985</td>\n",
        "      <td>   0.380650</td>\n",
        "      <td>   0.631176</td>\n",
        "      <td>   0.273220</td>\n",
        "    </tr>\n",
        "    <tr>\n",
        "      <th>std</th>\n",
        "      <td>   0</td>\n",
        "      <td>   0.741054</td>\n",
        "      <td>   1.529349</td>\n",
        "      <td>   0.507237</td>\n",
        "      <td>   0.398709</td>\n",
        "      <td>   3.451431</td>\n",
        "      <td>   2.106730</td>\n",
        "      <td>   0.079727</td>\n",
        "      <td>   0.111644</td>\n",
        "      <td>   0.083915</td>\n",
        "    </tr>\n",
        "    <tr>\n",
        "      <th>min</th>\n",
        "      <td>   1</td>\n",
        "      <td>   1.000000</td>\n",
        "      <td>   8.750000</td>\n",
        "      <td>   0.350000</td>\n",
        "      <td>   1.520000</td>\n",
        "      <td>  63.000000</td>\n",
        "      <td>   4.480000</td>\n",
        "      <td>   0.200000</td>\n",
        "      <td>   0.320000</td>\n",
        "      <td>   0.100000</td>\n",
        "    </tr>\n",
        "    <tr>\n",
        "      <th>25%</th>\n",
        "      <td>   1</td>\n",
        "      <td>   2.500000</td>\n",
        "      <td>  12.680000</td>\n",
        "      <td>   1.215000</td>\n",
        "      <td>   2.015000</td>\n",
        "      <td>  68.830000</td>\n",
        "      <td>   8.555000</td>\n",
        "      <td>   0.320000</td>\n",
        "      <td>   0.560000</td>\n",
        "      <td>   0.220000</td>\n",
        "    </tr>\n",
        "    <tr>\n",
        "      <th>50%</th>\n",
        "      <td>   1</td>\n",
        "      <td>   3.000000</td>\n",
        "      <td>  13.460000</td>\n",
        "      <td>   1.630000</td>\n",
        "      <td>   2.230000</td>\n",
        "      <td>  70.300000</td>\n",
        "      <td>  10.900000</td>\n",
        "      <td>   0.370000</td>\n",
        "      <td>   0.620000</td>\n",
        "      <td>   0.270000</td>\n",
        "    </tr>\n",
        "    <tr>\n",
        "      <th>75%</th>\n",
        "      <td>   1</td>\n",
        "      <td>   3.000000</td>\n",
        "      <td>  14.190000</td>\n",
        "      <td>   1.850000</td>\n",
        "      <td>   2.495000</td>\n",
        "      <td>  72.835000</td>\n",
        "      <td>  12.025000</td>\n",
        "      <td>   0.440000</td>\n",
        "      <td>   0.690000</td>\n",
        "      <td>   0.320000</td>\n",
        "    </tr>\n",
        "    <tr>\n",
        "      <th>max</th>\n",
        "      <td>   1</td>\n",
        "      <td>   4.000000</td>\n",
        "      <td>  17.530000</td>\n",
        "      <td>   2.800000</td>\n",
        "      <td>   3.750000</td>\n",
        "      <td>  81.130000</td>\n",
        "      <td>  14.620000</td>\n",
        "      <td>   0.740000</td>\n",
        "      <td>   1.020000</td>\n",
        "      <td>   0.580000</td>\n",
        "    </tr>\n",
        "    <tr>\n",
        "      <th rowspan=\"8\" valign=\"top\">2</th>\n",
        "      <th>count</th>\n",
        "      <td>  98</td>\n",
        "      <td>  98.000000</td>\n",
        "      <td>  98.000000</td>\n",
        "      <td>  98.000000</td>\n",
        "      <td>  98.000000</td>\n",
        "      <td>  98.000000</td>\n",
        "      <td>  98.000000</td>\n",
        "      <td>  98.000000</td>\n",
        "      <td>  98.000000</td>\n",
        "      <td>  98.000000</td>\n",
        "    </tr>\n",
        "    <tr>\n",
        "      <th>mean</th>\n",
        "      <td>   2</td>\n",
        "      <td>   5.336735</td>\n",
        "      <td>  11.113469</td>\n",
        "      <td>   0.967449</td>\n",
        "      <td>   2.261837</td>\n",
        "      <td>  72.680204</td>\n",
        "      <td>  11.965306</td>\n",
        "      <td>   0.270918</td>\n",
        "      <td>   0.731735</td>\n",
        "      <td>   0.019388</td>\n",
        "    </tr>\n",
        "    <tr>\n",
        "      <th>std</th>\n",
        "      <td>   0</td>\n",
        "      <td>   0.475023</td>\n",
        "      <td>   0.404111</td>\n",
        "      <td>   0.138514</td>\n",
        "      <td>   0.176363</td>\n",
        "      <td>   1.418783</td>\n",
        "      <td>   1.072336</td>\n",
        "      <td>   0.053844</td>\n",
        "      <td>   0.118826</td>\n",
        "      <td>   0.007436</td>\n",
        "    </tr>\n",
        "    <tr>\n",
        "      <th>min</th>\n",
        "      <td>   2</td>\n",
        "      <td>   5.000000</td>\n",
        "      <td>  10.300000</td>\n",
        "      <td>   0.350000</td>\n",
        "      <td>   1.990000</td>\n",
        "      <td>  68.820000</td>\n",
        "      <td>  10.570000</td>\n",
        "      <td>   0.150000</td>\n",
        "      <td>   0.450000</td>\n",
        "      <td>   0.010000</td>\n",
        "    </tr>\n",
        "    <tr>\n",
        "      <th>25%</th>\n",
        "      <td>   2</td>\n",
        "      <td>   5.000000</td>\n",
        "      <td>  10.852500</td>\n",
        "      <td>   0.882500</td>\n",
        "      <td>   2.120000</td>\n",
        "      <td>  71.372500</td>\n",
        "      <td>  11.122500</td>\n",
        "      <td>   0.230000</td>\n",
        "      <td>   0.660000</td>\n",
        "      <td>   0.010000</td>\n",
        "    </tr>\n",
        "    <tr>\n",
        "      <th>50%</th>\n",
        "      <td>   2</td>\n",
        "      <td>   5.000000</td>\n",
        "      <td>  11.075000</td>\n",
        "      <td>   0.960000</td>\n",
        "      <td>   2.220000</td>\n",
        "      <td>  73.255000</td>\n",
        "      <td>  11.465000</td>\n",
        "      <td>   0.270000</td>\n",
        "      <td>   0.720000</td>\n",
        "      <td>   0.020000</td>\n",
        "    </tr>\n",
        "    <tr>\n",
        "      <th>75%</th>\n",
        "      <td>   2</td>\n",
        "      <td>   6.000000</td>\n",
        "      <td>  11.372500</td>\n",
        "      <td>   1.040000</td>\n",
        "      <td>   2.395000</td>\n",
        "      <td>  73.810000</td>\n",
        "      <td>  13.065000</td>\n",
        "      <td>   0.300000</td>\n",
        "      <td>   0.810000</td>\n",
        "      <td>   0.020000</td>\n",
        "    </tr>\n",
        "    <tr>\n",
        "      <th>max</th>\n",
        "      <td>   2</td>\n",
        "      <td>   6.000000</td>\n",
        "      <td>  12.130000</td>\n",
        "      <td>   1.350000</td>\n",
        "      <td>   2.720000</td>\n",
        "      <td>  74.390000</td>\n",
        "      <td>  14.700000</td>\n",
        "      <td>   0.430000</td>\n",
        "      <td>   1.050000</td>\n",
        "      <td>   0.030000</td>\n",
        "    </tr>\n",
        "    <tr>\n",
        "      <th rowspan=\"4\" valign=\"top\">3</th>\n",
        "      <th>count</th>\n",
        "      <td> 151</td>\n",
        "      <td> 151.000000</td>\n",
        "      <td> 151.000000</td>\n",
        "      <td> 151.000000</td>\n",
        "      <td> 151.000000</td>\n",
        "      <td> 151.000000</td>\n",
        "      <td> 151.000000</td>\n",
        "      <td> 151.000000</td>\n",
        "      <td> 151.000000</td>\n",
        "      <td> 151.000000</td>\n",
        "    </tr>\n",
        "    <tr>\n",
        "      <th>mean</th>\n",
        "      <td>   3</td>\n",
        "      <td>   8.006623</td>\n",
        "      <td>  10.948013</td>\n",
        "      <td>   0.837351</td>\n",
        "      <td>   2.308013</td>\n",
        "      <td>  77.930530</td>\n",
        "      <td>   7.270331</td>\n",
        "      <td>   0.217881</td>\n",
        "      <td>   0.375762</td>\n",
        "      <td>   0.019735</td>\n",
        "    </tr>\n",
        "    <tr>\n",
        "      <th>std</th>\n",
        "      <td>   0</td>\n",
        "      <td>   0.820542</td>\n",
        "      <td>   0.825635</td>\n",
        "      <td>   0.264388</td>\n",
        "      <td>   0.389560</td>\n",
        "      <td>   1.648155</td>\n",
        "      <td>   1.431226</td>\n",
        "      <td>   0.168865</td>\n",
        "      <td>   0.293586</td>\n",
        "      <td>   0.007298</td>\n",
        "    </tr>\n",
        "    <tr>\n",
        "      <th>min</th>\n",
        "      <td>   3</td>\n",
        "      <td>   7.000000</td>\n",
        "      <td>   6.100000</td>\n",
        "      <td>   0.150000</td>\n",
        "      <td>   1.700000</td>\n",
        "      <td>  73.400000</td>\n",
        "      <td>   5.100000</td>\n",
        "      <td>   0.000000</td>\n",
        "      <td>   0.000000</td>\n",
        "      <td>   0.010000</td>\n",
        "    </tr>\n",
        "  </tbody>\n",
        "</table>\n",
        "</div>"
       ],
       "metadata": {},
       "output_type": "pyout",
       "prompt_number": 65,
       "text": [
        "              region        area    palmitic  palmitoleic     stearic       oleic    linoleic   linolenic   arachidic  eicosenoic\n",
        "region                                                                                                                           \n",
        "1      count     323  323.000000  323.000000   323.000000  323.000000  323.000000  323.000000  323.000000  323.000000  323.000000\n",
        "       mean        1    2.783282   13.322879     1.548019    2.287740   71.000093   10.334985    0.380650    0.631176    0.273220\n",
        "       std         0    0.741054    1.529349     0.507237    0.398709    3.451431    2.106730    0.079727    0.111644    0.083915\n",
        "       min         1    1.000000    8.750000     0.350000    1.520000   63.000000    4.480000    0.200000    0.320000    0.100000\n",
        "       25%         1    2.500000   12.680000     1.215000    2.015000   68.830000    8.555000    0.320000    0.560000    0.220000\n",
        "       50%         1    3.000000   13.460000     1.630000    2.230000   70.300000   10.900000    0.370000    0.620000    0.270000\n",
        "       75%         1    3.000000   14.190000     1.850000    2.495000   72.835000   12.025000    0.440000    0.690000    0.320000\n",
        "       max         1    4.000000   17.530000     2.800000    3.750000   81.130000   14.620000    0.740000    1.020000    0.580000\n",
        "2      count      98   98.000000   98.000000    98.000000   98.000000   98.000000   98.000000   98.000000   98.000000   98.000000\n",
        "       mean        2    5.336735   11.113469     0.967449    2.261837   72.680204   11.965306    0.270918    0.731735    0.019388\n",
        "       std         0    0.475023    0.404111     0.138514    0.176363    1.418783    1.072336    0.053844    0.118826    0.007436\n",
        "       min         2    5.000000   10.300000     0.350000    1.990000   68.820000   10.570000    0.150000    0.450000    0.010000\n",
        "       25%         2    5.000000   10.852500     0.882500    2.120000   71.372500   11.122500    0.230000    0.660000    0.010000\n",
        "       50%         2    5.000000   11.075000     0.960000    2.220000   73.255000   11.465000    0.270000    0.720000    0.020000\n",
        "       75%         2    6.000000   11.372500     1.040000    2.395000   73.810000   13.065000    0.300000    0.810000    0.020000\n",
        "       max         2    6.000000   12.130000     1.350000    2.720000   74.390000   14.700000    0.430000    1.050000    0.030000\n",
        "3      count     151  151.000000  151.000000   151.000000  151.000000  151.000000  151.000000  151.000000  151.000000  151.000000\n",
        "       mean        3    8.006623   10.948013     0.837351    2.308013   77.930530    7.270331    0.217881    0.375762    0.019735\n",
        "       std         0    0.820542    0.825635     0.264388    0.389560    1.648155    1.431226    0.168865    0.293586    0.007298\n",
        "       min         3    7.000000    6.100000     0.150000    1.700000   73.400000    5.100000    0.000000    0.000000    0.010000"
       ]
      }
     ],
     "prompt_number": 65
    },
    {
     "cell_type": "markdown",
     "metadata": {},
     "source": [
      "One might let pandas take care of concatenating the series obtained by running `std` on each dataframe back into a dataframe for us. Notice that the output dataframe is automatically indexed by region for us!"
     ]
    },
    {
     "cell_type": "code",
     "collapsed": false,
     "input": [
      "dfbystd=df.groupby('region').std()\n",
      "dfbystd.head()"
     ],
     "language": "python",
     "metadata": {},
     "outputs": [
      {
       "html": [
        "<div style=\"max-height:1000px;max-width:1500px;overflow:auto;\">\n",
        "<table border=\"1\" class=\"dataframe\">\n",
        "  <thead>\n",
        "    <tr style=\"text-align: right;\">\n",
        "      <th></th>\n",
        "      <th>area</th>\n",
        "      <th>palmitic</th>\n",
        "      <th>palmitoleic</th>\n",
        "      <th>stearic</th>\n",
        "      <th>oleic</th>\n",
        "      <th>linoleic</th>\n",
        "      <th>linolenic</th>\n",
        "      <th>arachidic</th>\n",
        "      <th>eicosenoic</th>\n",
        "    </tr>\n",
        "    <tr>\n",
        "      <th>region</th>\n",
        "      <th></th>\n",
        "      <th></th>\n",
        "      <th></th>\n",
        "      <th></th>\n",
        "      <th></th>\n",
        "      <th></th>\n",
        "      <th></th>\n",
        "      <th></th>\n",
        "      <th></th>\n",
        "    </tr>\n",
        "  </thead>\n",
        "  <tbody>\n",
        "    <tr>\n",
        "      <th>1</th>\n",
        "      <td> 0.741054</td>\n",
        "      <td> 1.529349</td>\n",
        "      <td> 0.507237</td>\n",
        "      <td> 0.398709</td>\n",
        "      <td> 3.451431</td>\n",
        "      <td> 2.106730</td>\n",
        "      <td> 0.079727</td>\n",
        "      <td> 0.111644</td>\n",
        "      <td> 0.083915</td>\n",
        "    </tr>\n",
        "    <tr>\n",
        "      <th>2</th>\n",
        "      <td> 0.475023</td>\n",
        "      <td> 0.404111</td>\n",
        "      <td> 0.138514</td>\n",
        "      <td> 0.176363</td>\n",
        "      <td> 1.418783</td>\n",
        "      <td> 1.072336</td>\n",
        "      <td> 0.053844</td>\n",
        "      <td> 0.118826</td>\n",
        "      <td> 0.007436</td>\n",
        "    </tr>\n",
        "    <tr>\n",
        "      <th>3</th>\n",
        "      <td> 0.820542</td>\n",
        "      <td> 0.825635</td>\n",
        "      <td> 0.264388</td>\n",
        "      <td> 0.389560</td>\n",
        "      <td> 1.648155</td>\n",
        "      <td> 1.431226</td>\n",
        "      <td> 0.168865</td>\n",
        "      <td> 0.293586</td>\n",
        "      <td> 0.007298</td>\n",
        "    </tr>\n",
        "  </tbody>\n",
        "</table>\n",
        "</div>"
       ],
       "metadata": {},
       "output_type": "pyout",
       "prompt_number": 66,
       "text": [
        "            area  palmitic  palmitoleic   stearic     oleic  linoleic  linolenic  arachidic  eicosenoic\n",
        "region                                                                                                 \n",
        "1       0.741054  1.529349     0.507237  0.398709  3.451431  2.106730   0.079727   0.111644    0.083915\n",
        "2       0.475023  0.404111     0.138514  0.176363  1.418783  1.072336   0.053844   0.118826    0.007436\n",
        "3       0.820542  0.825635     0.264388  0.389560  1.648155  1.431226   0.168865   0.293586    0.007298"
       ]
      }
     ],
     "prompt_number": 66
    },
    {
     "cell_type": "markdown",
     "metadata": {},
     "source": [
      "Or one can use `aggregate` to pass an arbitrary function of to the sub-dataframe. The function is applied columnwise."
     ]
    },
    {
     "cell_type": "code",
     "collapsed": false,
     "input": [
      "dfbymean=region_groupby.aggregate(np.mean)\n",
      "dfbymean.head()"
     ],
     "language": "python",
     "metadata": {},
     "outputs": [
      {
       "html": [
        "<div style=\"max-height:1000px;max-width:1500px;overflow:auto;\">\n",
        "<table border=\"1\" class=\"dataframe\">\n",
        "  <thead>\n",
        "    <tr style=\"text-align: right;\">\n",
        "      <th></th>\n",
        "      <th>area</th>\n",
        "      <th>palmitic</th>\n",
        "      <th>palmitoleic</th>\n",
        "      <th>stearic</th>\n",
        "      <th>oleic</th>\n",
        "      <th>linoleic</th>\n",
        "      <th>linolenic</th>\n",
        "      <th>arachidic</th>\n",
        "      <th>eicosenoic</th>\n",
        "    </tr>\n",
        "    <tr>\n",
        "      <th>region</th>\n",
        "      <th></th>\n",
        "      <th></th>\n",
        "      <th></th>\n",
        "      <th></th>\n",
        "      <th></th>\n",
        "      <th></th>\n",
        "      <th></th>\n",
        "      <th></th>\n",
        "      <th></th>\n",
        "    </tr>\n",
        "  </thead>\n",
        "  <tbody>\n",
        "    <tr>\n",
        "      <th>1</th>\n",
        "      <td> 2.783282</td>\n",
        "      <td> 13.322879</td>\n",
        "      <td> 1.548019</td>\n",
        "      <td> 2.287740</td>\n",
        "      <td> 71.000093</td>\n",
        "      <td> 10.334985</td>\n",
        "      <td> 0.380650</td>\n",
        "      <td> 0.631176</td>\n",
        "      <td> 0.273220</td>\n",
        "    </tr>\n",
        "    <tr>\n",
        "      <th>2</th>\n",
        "      <td> 5.336735</td>\n",
        "      <td> 11.113469</td>\n",
        "      <td> 0.967449</td>\n",
        "      <td> 2.261837</td>\n",
        "      <td> 72.680204</td>\n",
        "      <td> 11.965306</td>\n",
        "      <td> 0.270918</td>\n",
        "      <td> 0.731735</td>\n",
        "      <td> 0.019388</td>\n",
        "    </tr>\n",
        "    <tr>\n",
        "      <th>3</th>\n",
        "      <td> 8.006623</td>\n",
        "      <td> 10.948013</td>\n",
        "      <td> 0.837351</td>\n",
        "      <td> 2.308013</td>\n",
        "      <td> 77.930530</td>\n",
        "      <td>  7.270331</td>\n",
        "      <td> 0.217881</td>\n",
        "      <td> 0.375762</td>\n",
        "      <td> 0.019735</td>\n",
        "    </tr>\n",
        "  </tbody>\n",
        "</table>\n",
        "</div>"
       ],
       "metadata": {},
       "output_type": "pyout",
       "prompt_number": 67,
       "text": [
        "            area   palmitic  palmitoleic   stearic      oleic   linoleic  linolenic  arachidic  eicosenoic\n",
        "region                                                                                                    \n",
        "1       2.783282  13.322879     1.548019  2.287740  71.000093  10.334985   0.380650   0.631176    0.273220\n",
        "2       5.336735  11.113469     0.967449  2.261837  72.680204  11.965306   0.270918   0.731735    0.019388\n",
        "3       8.006623  10.948013     0.837351  2.308013  77.930530   7.270331   0.217881   0.375762    0.019735"
       ]
      }
     ],
     "prompt_number": 67
    },
    {
     "cell_type": "markdown",
     "metadata": {},
     "source": [
      "Or one can use `apply` to pass an arbitrary function to the sub-dataframe. This one takes the dataframe as argument."
     ]
    },
    {
     "cell_type": "code",
     "collapsed": false,
     "input": [
      "region_groupby.apply(lambda f: f.mean())"
     ],
     "language": "python",
     "metadata": {},
     "outputs": [
      {
       "html": [
        "<div style=\"max-height:1000px;max-width:1500px;overflow:auto;\">\n",
        "<table border=\"1\" class=\"dataframe\">\n",
        "  <thead>\n",
        "    <tr style=\"text-align: right;\">\n",
        "      <th></th>\n",
        "      <th>region</th>\n",
        "      <th>area</th>\n",
        "      <th>palmitic</th>\n",
        "      <th>palmitoleic</th>\n",
        "      <th>stearic</th>\n",
        "      <th>oleic</th>\n",
        "      <th>linoleic</th>\n",
        "      <th>linolenic</th>\n",
        "      <th>arachidic</th>\n",
        "      <th>eicosenoic</th>\n",
        "    </tr>\n",
        "    <tr>\n",
        "      <th>region</th>\n",
        "      <th></th>\n",
        "      <th></th>\n",
        "      <th></th>\n",
        "      <th></th>\n",
        "      <th></th>\n",
        "      <th></th>\n",
        "      <th></th>\n",
        "      <th></th>\n",
        "      <th></th>\n",
        "      <th></th>\n",
        "    </tr>\n",
        "  </thead>\n",
        "  <tbody>\n",
        "    <tr>\n",
        "      <th>1</th>\n",
        "      <td> 1</td>\n",
        "      <td> 2.783282</td>\n",
        "      <td> 13.322879</td>\n",
        "      <td> 1.548019</td>\n",
        "      <td> 2.287740</td>\n",
        "      <td> 71.000093</td>\n",
        "      <td> 10.334985</td>\n",
        "      <td> 0.380650</td>\n",
        "      <td> 0.631176</td>\n",
        "      <td> 0.273220</td>\n",
        "    </tr>\n",
        "    <tr>\n",
        "      <th>2</th>\n",
        "      <td> 2</td>\n",
        "      <td> 5.336735</td>\n",
        "      <td> 11.113469</td>\n",
        "      <td> 0.967449</td>\n",
        "      <td> 2.261837</td>\n",
        "      <td> 72.680204</td>\n",
        "      <td> 11.965306</td>\n",
        "      <td> 0.270918</td>\n",
        "      <td> 0.731735</td>\n",
        "      <td> 0.019388</td>\n",
        "    </tr>\n",
        "    <tr>\n",
        "      <th>3</th>\n",
        "      <td> 3</td>\n",
        "      <td> 8.006623</td>\n",
        "      <td> 10.948013</td>\n",
        "      <td> 0.837351</td>\n",
        "      <td> 2.308013</td>\n",
        "      <td> 77.930530</td>\n",
        "      <td>  7.270331</td>\n",
        "      <td> 0.217881</td>\n",
        "      <td> 0.375762</td>\n",
        "      <td> 0.019735</td>\n",
        "    </tr>\n",
        "  </tbody>\n",
        "</table>\n",
        "</div>"
       ],
       "metadata": {},
       "output_type": "pyout",
       "prompt_number": 68,
       "text": [
        "        region      area   palmitic  palmitoleic   stearic      oleic   linoleic  linolenic  arachidic  eicosenoic\n",
        "region                                                                                                            \n",
        "1            1  2.783282  13.322879     1.548019  2.287740  71.000093  10.334985   0.380650   0.631176    0.273220\n",
        "2            2  5.336735  11.113469     0.967449  2.261837  72.680204  11.965306   0.270918   0.731735    0.019388\n",
        "3            3  8.006623  10.948013     0.837351  2.308013  77.930530   7.270331   0.217881   0.375762    0.019735"
       ]
      }
     ],
     "prompt_number": 68
    },
    {
     "cell_type": "markdown",
     "metadata": {},
     "source": [
      "Let's rename the columns in `dfbymean` and `dfbystd`."
     ]
    },
    {
     "cell_type": "code",
     "collapsed": false,
     "input": [
      "renamedict_std={k:k+\"_std\" for k in acidlist}\n",
      "renamedict_mean={k:k+\"_mean\" for k in acidlist}\n",
      "dfbystd.rename(inplace=True, columns=renamedict_std)\n",
      "dfbymean.rename(inplace=True, columns=renamedict_mean) \n",
      "dfbystd.head()"
     ],
     "language": "python",
     "metadata": {},
     "outputs": [
      {
       "html": [
        "<div style=\"max-height:1000px;max-width:1500px;overflow:auto;\">\n",
        "<table border=\"1\" class=\"dataframe\">\n",
        "  <thead>\n",
        "    <tr style=\"text-align: right;\">\n",
        "      <th></th>\n",
        "      <th>area</th>\n",
        "      <th>palmitic_std</th>\n",
        "      <th>palmitoleic_std</th>\n",
        "      <th>stearic_std</th>\n",
        "      <th>oleic_std</th>\n",
        "      <th>linoleic_std</th>\n",
        "      <th>linolenic_std</th>\n",
        "      <th>arachidic_std</th>\n",
        "      <th>eicosenoic_std</th>\n",
        "    </tr>\n",
        "    <tr>\n",
        "      <th>region</th>\n",
        "      <th></th>\n",
        "      <th></th>\n",
        "      <th></th>\n",
        "      <th></th>\n",
        "      <th></th>\n",
        "      <th></th>\n",
        "      <th></th>\n",
        "      <th></th>\n",
        "      <th></th>\n",
        "    </tr>\n",
        "  </thead>\n",
        "  <tbody>\n",
        "    <tr>\n",
        "      <th>1</th>\n",
        "      <td> 0.741054</td>\n",
        "      <td> 1.529349</td>\n",
        "      <td> 0.507237</td>\n",
        "      <td> 0.398709</td>\n",
        "      <td> 3.451431</td>\n",
        "      <td> 2.106730</td>\n",
        "      <td> 0.079727</td>\n",
        "      <td> 0.111644</td>\n",
        "      <td> 0.083915</td>\n",
        "    </tr>\n",
        "    <tr>\n",
        "      <th>2</th>\n",
        "      <td> 0.475023</td>\n",
        "      <td> 0.404111</td>\n",
        "      <td> 0.138514</td>\n",
        "      <td> 0.176363</td>\n",
        "      <td> 1.418783</td>\n",
        "      <td> 1.072336</td>\n",
        "      <td> 0.053844</td>\n",
        "      <td> 0.118826</td>\n",
        "      <td> 0.007436</td>\n",
        "    </tr>\n",
        "    <tr>\n",
        "      <th>3</th>\n",
        "      <td> 0.820542</td>\n",
        "      <td> 0.825635</td>\n",
        "      <td> 0.264388</td>\n",
        "      <td> 0.389560</td>\n",
        "      <td> 1.648155</td>\n",
        "      <td> 1.431226</td>\n",
        "      <td> 0.168865</td>\n",
        "      <td> 0.293586</td>\n",
        "      <td> 0.007298</td>\n",
        "    </tr>\n",
        "  </tbody>\n",
        "</table>\n",
        "</div>"
       ],
       "metadata": {},
       "output_type": "pyout",
       "prompt_number": 69,
       "text": [
        "            area  palmitic_std  palmitoleic_std  stearic_std  oleic_std  linoleic_std  linolenic_std  arachidic_std  eicosenoic_std\n",
        "region                                                                                                                             \n",
        "1       0.741054      1.529349         0.507237     0.398709   3.451431      2.106730       0.079727       0.111644        0.083915\n",
        "2       0.475023      0.404111         0.138514     0.176363   1.418783      1.072336       0.053844       0.118826        0.007436\n",
        "3       0.820542      0.825635         0.264388     0.389560   1.648155      1.431226       0.168865       0.293586        0.007298"
       ]
      }
     ],
     "prompt_number": 69
    },
    {
     "cell_type": "markdown",
     "metadata": {},
     "source": [
      "Pandas can do general merges. When we do that along an index, it's called a `join` (<a href=\"http://pandas.pydata.org/pandas-docs/dev/generated/pandas.DataFrame.join.html\">documentation</a>). Here we make two sub-dataframes and join them on the common region index."
     ]
    },
    {
     "cell_type": "code",
     "collapsed": false,
     "input": [
      "dfpalmiticmean = dfbymean[['palmitic_mean']] \n",
      "dfpalmiticstd = dfbystd[['palmitic_std']] \n",
      "\n",
      "newdfbyregion=dfpalmiticmean.join(dfpalmiticstd)\n",
      "newdfbyregion.head()"
     ],
     "language": "python",
     "metadata": {},
     "outputs": [
      {
       "html": [
        "<div style=\"max-height:1000px;max-width:1500px;overflow:auto;\">\n",
        "<table border=\"1\" class=\"dataframe\">\n",
        "  <thead>\n",
        "    <tr style=\"text-align: right;\">\n",
        "      <th></th>\n",
        "      <th>palmitic_mean</th>\n",
        "      <th>palmitic_std</th>\n",
        "    </tr>\n",
        "    <tr>\n",
        "      <th>region</th>\n",
        "      <th></th>\n",
        "      <th></th>\n",
        "    </tr>\n",
        "  </thead>\n",
        "  <tbody>\n",
        "    <tr>\n",
        "      <th>1</th>\n",
        "      <td> 13.322879</td>\n",
        "      <td> 1.529349</td>\n",
        "    </tr>\n",
        "    <tr>\n",
        "      <th>2</th>\n",
        "      <td> 11.113469</td>\n",
        "      <td> 0.404111</td>\n",
        "    </tr>\n",
        "    <tr>\n",
        "      <th>3</th>\n",
        "      <td> 10.948013</td>\n",
        "      <td> 0.825635</td>\n",
        "    </tr>\n",
        "  </tbody>\n",
        "</table>\n",
        "</div>"
       ],
       "metadata": {},
       "output_type": "pyout",
       "prompt_number": 70,
       "text": [
        "        palmitic_mean  palmitic_std\n",
        "region                             \n",
        "1           13.322879      1.529349\n",
        "2           11.113469      0.404111\n",
        "3           10.948013      0.825635"
       ]
      }
     ],
     "prompt_number": 70
    },
    {
     "cell_type": "code",
     "collapsed": false,
     "input": [
      "rkeys=[1,2,3]\n",
      "rvals=['South','Sardinia','North']\n",
      "rmap={e[0]:e[1] for e in zip(rkeys,rvals)}\n",
      "rmap"
     ],
     "language": "python",
     "metadata": {},
     "outputs": [
      {
       "metadata": {},
       "output_type": "pyout",
       "prompt_number": 71,
       "text": [
        "{1: 'South', 2: 'Sardinia', 3: 'North'}"
       ]
      }
     ],
     "prompt_number": 71
    },
    {
     "cell_type": "markdown",
     "metadata": {},
     "source": [
      "Let's get a dataframe with just the acids."
     ]
    },
    {
     "cell_type": "code",
     "collapsed": false,
     "input": [
      "mdf2=df.groupby('region').aggregate(np.mean)\n",
      "mdf2=mdf2[acidlist]\n",
      "mdf2.head()"
     ],
     "language": "python",
     "metadata": {},
     "outputs": [
      {
       "html": [
        "<div style=\"max-height:1000px;max-width:1500px;overflow:auto;\">\n",
        "<table border=\"1\" class=\"dataframe\">\n",
        "  <thead>\n",
        "    <tr style=\"text-align: right;\">\n",
        "      <th></th>\n",
        "      <th>palmitic</th>\n",
        "      <th>palmitoleic</th>\n",
        "      <th>stearic</th>\n",
        "      <th>oleic</th>\n",
        "      <th>linoleic</th>\n",
        "      <th>linolenic</th>\n",
        "      <th>arachidic</th>\n",
        "      <th>eicosenoic</th>\n",
        "    </tr>\n",
        "    <tr>\n",
        "      <th>region</th>\n",
        "      <th></th>\n",
        "      <th></th>\n",
        "      <th></th>\n",
        "      <th></th>\n",
        "      <th></th>\n",
        "      <th></th>\n",
        "      <th></th>\n",
        "      <th></th>\n",
        "    </tr>\n",
        "  </thead>\n",
        "  <tbody>\n",
        "    <tr>\n",
        "      <th>1</th>\n",
        "      <td> 13.322879</td>\n",
        "      <td> 1.548019</td>\n",
        "      <td> 2.287740</td>\n",
        "      <td> 71.000093</td>\n",
        "      <td> 10.334985</td>\n",
        "      <td> 0.380650</td>\n",
        "      <td> 0.631176</td>\n",
        "      <td> 0.273220</td>\n",
        "    </tr>\n",
        "    <tr>\n",
        "      <th>2</th>\n",
        "      <td> 11.113469</td>\n",
        "      <td> 0.967449</td>\n",
        "      <td> 2.261837</td>\n",
        "      <td> 72.680204</td>\n",
        "      <td> 11.965306</td>\n",
        "      <td> 0.270918</td>\n",
        "      <td> 0.731735</td>\n",
        "      <td> 0.019388</td>\n",
        "    </tr>\n",
        "    <tr>\n",
        "      <th>3</th>\n",
        "      <td> 10.948013</td>\n",
        "      <td> 0.837351</td>\n",
        "      <td> 2.308013</td>\n",
        "      <td> 77.930530</td>\n",
        "      <td>  7.270331</td>\n",
        "      <td> 0.217881</td>\n",
        "      <td> 0.375762</td>\n",
        "      <td> 0.019735</td>\n",
        "    </tr>\n",
        "  </tbody>\n",
        "</table>\n",
        "</div>"
       ],
       "metadata": {},
       "output_type": "pyout",
       "prompt_number": 72,
       "text": [
        "         palmitic  palmitoleic   stearic      oleic   linoleic  linolenic  arachidic  eicosenoic\n",
        "region                                                                                          \n",
        "1       13.322879     1.548019  2.287740  71.000093  10.334985   0.380650   0.631176    0.273220\n",
        "2       11.113469     0.967449  2.261837  72.680204  11.965306   0.270918   0.731735    0.019388\n",
        "3       10.948013     0.837351  2.308013  77.930530   7.270331   0.217881   0.375762    0.019735"
       ]
      }
     ],
     "prompt_number": 72
    },
    {
     "cell_type": "markdown",
     "metadata": {},
     "source": [
      "Let's make a bar plot of the relative mean percentages of the acids. In pandas this is as simple as:"
     ]
    },
    {
     "cell_type": "code",
     "collapsed": false,
     "input": [
      "ax=mdf2.plot(kind='barh', stacked=True)\n",
      "ax.set_yticklabels(rvals)\n",
      "ax.set_xlim([0,100])"
     ],
     "language": "python",
     "metadata": {},
     "outputs": [
      {
       "metadata": {},
       "output_type": "pyout",
       "prompt_number": 73,
       "text": [
        "(0, 100)"
       ]
      },
      {
       "metadata": {},
       "output_type": "display_data",
       "png": "[encoded data removed]",
       "text": [
        "<matplotlib.figure.Figure at 0x7959ad0>"
       ]
      }
     ],
     "prompt_number": 73
    },
    {
     "cell_type": "code",
     "collapsed": false,
     "input": [
      "df.palmitic.hist()"
     ],
     "language": "python",
     "metadata": {},
     "outputs": [
      {
       "metadata": {},
       "output_type": "pyout",
       "prompt_number": 74,
       "text": [
        "<matplotlib.axes._subplots.AxesSubplot at 0x7959af0>"
       ]
      },
      {
       "metadata": {},
       "output_type": "display_data",
       "png": "[encoded data removed]",
       "text": [
        "<matplotlib.figure.Figure at 0x7ac1ff0>"
       ]
      }
     ],
     "prompt_number": 74
    },
    {
     "cell_type": "markdown",
     "metadata": {},
     "source": [
      "You can make a mask!"
     ]
    },
    {
     "cell_type": "code",
     "collapsed": false,
     "input": [
      "mask=(df.eicosenoic < 0.05)\n",
      "mask"
     ],
     "language": "python",
     "metadata": {},
     "outputs": [
      {
       "metadata": {},
       "output_type": "pyout",
       "prompt_number": 75,
       "text": [
        "0     False\n",
        "1     False\n",
        "2     False\n",
        "3     False\n",
        "4     False\n",
        "5     False\n",
        "6     False\n",
        "7     False\n",
        "8     False\n",
        "9     False\n",
        "10    False\n",
        "11    False\n",
        "12    False\n",
        "13    False\n",
        "14    False\n",
        "...\n",
        "557    True\n",
        "558    True\n",
        "559    True\n",
        "560    True\n",
        "561    True\n",
        "562    True\n",
        "563    True\n",
        "564    True\n",
        "565    True\n",
        "566    True\n",
        "567    True\n",
        "568    True\n",
        "569    True\n",
        "570    True\n",
        "571    True\n",
        "Name: eicosenoic, Length: 572, dtype: bool"
       ]
      }
     ],
     "prompt_number": 75
    },
    {
     "cell_type": "markdown",
     "metadata": {},
     "source": [
      "The first gives a count, the second is a shortcut to get a probability!"
     ]
    },
    {
     "cell_type": "code",
     "collapsed": false,
     "input": [
      "np.sum(mask), np.mean(mask)"
     ],
     "language": "python",
     "metadata": {},
     "outputs": [
      {
       "metadata": {},
       "output_type": "pyout",
       "prompt_number": 76,
       "text": [
        "(249, 0.43531468531468531)"
       ]
      }
     ],
     "prompt_number": 76
    },
    {
     "cell_type": "markdown",
     "metadata": {},
     "source": [
      "Pandas supports conditional indexing: <a href=\"http://pandas.pydata.org/pandas-docs/dev/indexing.html#boolean-indexing\">documentation</a>"
     ]
    },
    {
     "cell_type": "code",
     "collapsed": false,
     "input": [
      "loweico=df[df.eicosenoic < 0.02]\n",
      "pd.crosstab(loweico.area, loweico.region)"
     ],
     "language": "python",
     "metadata": {},
     "outputs": [
      {
       "html": [
        "<div style=\"max-height:1000px;max-width:1500px;overflow:auto;\">\n",
        "<table border=\"1\" class=\"dataframe\">\n",
        "  <thead>\n",
        "    <tr style=\"text-align: right;\">\n",
        "      <th>region</th>\n",
        "      <th>2</th>\n",
        "      <th>3</th>\n",
        "    </tr>\n",
        "    <tr>\n",
        "      <th>area</th>\n",
        "      <th></th>\n",
        "      <th></th>\n",
        "    </tr>\n",
        "  </thead>\n",
        "  <tbody>\n",
        "    <tr>\n",
        "      <th>5</th>\n",
        "      <td> 19</td>\n",
        "      <td>  0</td>\n",
        "    </tr>\n",
        "    <tr>\n",
        "      <th>6</th>\n",
        "      <td> 11</td>\n",
        "      <td>  0</td>\n",
        "    </tr>\n",
        "    <tr>\n",
        "      <th>7</th>\n",
        "      <td>  0</td>\n",
        "      <td> 17</td>\n",
        "    </tr>\n",
        "    <tr>\n",
        "      <th>8</th>\n",
        "      <td>  0</td>\n",
        "      <td> 11</td>\n",
        "    </tr>\n",
        "    <tr>\n",
        "      <th>9</th>\n",
        "      <td>  0</td>\n",
        "      <td> 14</td>\n",
        "    </tr>\n",
        "  </tbody>\n",
        "</table>\n",
        "</div>"
       ],
       "metadata": {},
       "output_type": "pyout",
       "prompt_number": 77,
       "text": [
        "region   2   3\n",
        "area          \n",
        "5       19   0\n",
        "6       11   0\n",
        "7        0  17\n",
        "8        0  11\n",
        "9        0  14"
       ]
      }
     ],
     "prompt_number": 77
    },
    {
     "cell_type": "code",
     "collapsed": false,
     "input": [
      "from pandas.tools.plotting import scatter_matrix\n",
      "scatter_matrix(df[['linoleic','arachidic','eicosenoic']], alpha=0.3, figsize=(10, 10), diagonal='kde');"
     ],
     "language": "python",
     "metadata": {},
     "outputs": [
      {
       "metadata": {},
       "output_type": "display_data",
       "png": "[encoded data removed]",
       "text": [
        "<matplotlib.figure.Figure at 0x75dd0b0>"
       ]
      }
     ],
     "prompt_number": 78
    }
   ],
   "metadata": {}
  }
 ]
}